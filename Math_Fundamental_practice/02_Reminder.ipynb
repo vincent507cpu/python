{
 "cells": [
  {
   "cell_type": "markdown",
   "metadata": {},
   "source": [
    "# Encode (enrypt) a number"
   ]
  },
  {
   "cell_type": "code",
   "execution_count": 1,
   "metadata": {},
   "outputs": [],
   "source": [
    "def encode(old_num, encryption, mod):\n",
    "    assert int(old_num), 'Please provide a number!'\n",
    "    assert int(encryption), 'Please provide a random number!'\n",
    "    assert int(0 < mod and mod < 10), 'Please provide a singe digit number as mod!'\n",
    "    tmp = [int(s)+encryption for s in str(old_num)]\n",
    "    tmp = [s%mod for s in tmp][::-1]\n",
    "    new_num = ''.join([str(s) for s in tmp])\n",
    "    return int(new_num)"
   ]
  },
  {
   "cell_type": "code",
   "execution_count": 2,
   "metadata": {},
   "outputs": [
    {
     "data": {
      "text/plain": [
       "537"
      ]
     },
     "execution_count": 2,
     "metadata": {},
     "output_type": "execute_result"
    }
   ],
   "source": [
    "encode(513, 12346, 8)"
   ]
  },
  {
   "cell_type": "markdown",
   "metadata": {},
   "source": [
    "# Decode (decipher) a number"
   ]
  },
  {
   "cell_type": "code",
   "execution_count": 3,
   "metadata": {},
   "outputs": [],
   "source": [
    "# find the original digit\n",
    "def find_original(num, encryption, mod):\n",
    "    i = 0\n",
    "    while num + i*mod - encryption < 0:\n",
    "        i += 1\n",
    "    return num + i*mod - encryption\n",
    "\n",
    "def decode(new_num, encryption, mod):\n",
    "    assert int(new_num), 'Please provide a number!'\n",
    "    assert int(encryption), 'Please provide a random number!'\n",
    "    assert int(0 < mod and mod < 10), 'Please provide a singe digit number as mod!'\n",
    "    tmp = [int(s) for s in str(new_num)[::-1]]\n",
    "    tmp = [find_original(s, encryption, mod) for s in tmp]\n",
    "    new_num = ''.join([str(s) for s in tmp])\n",
    "    return int(new_num)"
   ]
  },
  {
   "cell_type": "code",
   "execution_count": 4,
   "metadata": {},
   "outputs": [
    {
     "data": {
      "text/plain": [
       "513"
      ]
     },
     "execution_count": 4,
     "metadata": {},
     "output_type": "execute_result"
    }
   ],
   "source": [
    "decode(537, 12346, 8)"
   ]
  }
 ],
 "metadata": {
  "kernelspec": {
   "display_name": "Python 3",
   "language": "python",
   "name": "python3"
  },
  "language_info": {
   "codemirror_mode": {
    "name": "ipython",
    "version": 3
   },
   "file_extension": ".py",
   "mimetype": "text/x-python",
   "name": "python",
   "nbconvert_exporter": "python",
   "pygments_lexer": "ipython3",
   "version": "3.7.3"
  }
 },
 "nbformat": 4,
 "nbformat_minor": 2
}
