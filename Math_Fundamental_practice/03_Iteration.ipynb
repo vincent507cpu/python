{
 "cells": [
  {
   "cell_type": "markdown",
   "metadata": {},
   "source": [
    "# Use iteration to find a square root of a number"
   ]
  },
  {
   "cell_type": "code",
   "execution_count": 1,
   "metadata": {},
   "outputs": [],
   "source": [
    "def find(num, threshold, maxtry=10000):\n",
    "    assert num > 1, 'The number shall be greater than 1!'\n",
    "    minimum = 1\n",
    "    maximum = num\n",
    "    for i in range(maxtry):\n",
    "        mid = (maximum + minimum) / 2\n",
    "        square = mid * mid\n",
    "        delta = abs(square / num - 1)\n",
    "        if delta <= threshold:\n",
    "            return mid\n",
    "        elif square > num:\n",
    "            maximum = mid\n",
    "        else:\n",
    "            minimum = mid\n",
    "    return mid"
   ]
  },
  {
   "cell_type": "code",
   "execution_count": 2,
   "metadata": {},
   "outputs": [
    {
     "data": {
      "text/plain": [
       "3.162384033203125"
      ]
     },
     "execution_count": 2,
     "metadata": {},
     "output_type": "execute_result"
    }
   ],
   "source": [
    "find(10, 0.1**4)"
   ]
  }
 ],
 "metadata": {
  "kernelspec": {
   "display_name": "Python 3",
   "language": "python",
   "name": "python3"
  },
  "language_info": {
   "codemirror_mode": {
    "name": "ipython",
    "version": 3
   },
   "file_extension": ".py",
   "mimetype": "text/x-python",
   "name": "python",
   "nbconvert_exporter": "python",
   "pygments_lexer": "ipython3",
   "version": "3.7.3"
  }
 },
 "nbformat": 4,
 "nbformat_minor": 2
}
