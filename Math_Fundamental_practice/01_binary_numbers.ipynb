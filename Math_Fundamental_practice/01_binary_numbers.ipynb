{
 "cells": [
  {
   "cell_type": "markdown",
   "metadata": {},
   "source": [
    "# 01 Binary notation"
   ]
  },
  {
   "cell_type": "code",
   "execution_count": 1,
   "metadata": {},
   "outputs": [],
   "source": [
    "# The AND operator\n",
    "inputA = int('00100011',2)   # define binary sequence inputA\n",
    "inputB = int('00101101',2)   # define binary sequence inputB\n",
    "\n",
    "print(bin(inputA & inputB))   # logical AND on inputA and inputB and output in binary"
   ]
  },
  {
   "cell_type": "code",
   "execution_count": 2,
   "metadata": {},
   "outputs": [
    {
     "name": "stdout",
     "output_type": "stream",
     "text": [
      "0b100011\n",
      "0b101101\n",
      "0b101111\n"
     ]
    }
   ],
   "source": [
    "# The OR operator\n",
    "inputA = int('00100011',2)  # define binary number\n",
    "inputB = int('00101101',2)  # define binary number\n",
    "\n",
    "print(bin(inputA))            # prints inputA in binary\n",
    "print(bin(inputB))           # prints inputB in binary\n",
    "print(bin(inputA | inputB))   # Execute bitwise logical OR and print result in binary"
   ]
  },
  {
   "cell_type": "code",
   "execution_count": 3,
   "metadata": {},
   "outputs": [
    {
     "name": "stdout",
     "output_type": "stream",
     "text": [
      "0b100011\n",
      "0b101101\n",
      "0b1110\n"
     ]
    }
   ],
   "source": [
    "# The XOR operator\n",
    "inputA = int('00100011',2)  # define binary number\n",
    "inputB = int('00101101',2)  # define binary number\n",
    "\n",
    "print(bin(inputA))            # prints inputA in binary\n",
    "print(bin(inputB))            # prints inputB in binary\n",
    "print(bin(inputA ^ inputB))   # Execute bitwise logical OR and print result in binary"
   ]
  }
 ],
 "metadata": {
  "kernelspec": {
   "display_name": "Python 3",
   "language": "python",
   "name": "python3"
  },
  "language_info": {
   "codemirror_mode": {
    "name": "ipython",
    "version": 3
   },
   "file_extension": ".py",
   "mimetype": "text/x-python",
   "name": "python",
   "nbconvert_exporter": "python",
   "pygments_lexer": "ipython3",
   "version": "3.7.3"
  }
 },
 "nbformat": 4,
 "nbformat_minor": 2
}
