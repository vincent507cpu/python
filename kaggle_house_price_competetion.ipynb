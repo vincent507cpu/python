{
 "cells": [
  {
   "cell_type": "code",
   "execution_count": 1,
   "metadata": {},
   "outputs": [],
   "source": [
    "# import modules\n",
    "import numpy as np\n",
    "import pandas as pd\n",
    "\n",
    "from scipy import stats\n",
    "from scipy.stats import norm, skew\n",
    "import matplotlib.pyplot as plt\n",
    "import seaborn as sns\n",
    "%matplotlib inline\n",
    "\n",
    "from sklearn.linear_model import LinearRegression\n",
    "from sklearn.linear_model import Ridge\n",
    "from sklearn.linear_model import Lasso\n",
    "from sklearn.preprocessing import MinMaxScaler\n",
    "from sklearn.preprocessing import OneHotEncoder\n",
    "from sklearn.impute import SimpleImputer\n",
    "from sklearn.model_selection import GridSearchCV\n",
    "from sklearn.base import BaseEstimator, TransformerMixin\n",
    "from sklearn.model_selection import train_test_split\n",
    "from sklearn.metrics import mean_squared_error\n",
    "from sklearn.ensemble import RandomForestRegressor\n",
    "\n",
    "from xgboost import XGBRegressor\n",
    "\n",
    "import warnings\n",
    "warnings.filterwarnings('ignore')"
   ]
  },
  {
   "cell_type": "code",
   "execution_count": 2,
   "metadata": {},
   "outputs": [
    {
     "ename": "FileNotFoundError",
     "evalue": "[Errno 2] File b'house-prices-advanced-regression-techniques/train.csv' does not exist: b'house-prices-advanced-regression-techniques/train.csv'",
     "output_type": "error",
     "traceback": [
      "\u001b[0;31m---------------------------------------------------------------------------\u001b[0m",
      "\u001b[0;31mFileNotFoundError\u001b[0m                         Traceback (most recent call last)",
      "\u001b[0;32m<ipython-input-2-f8d953bff71d>\u001b[0m in \u001b[0;36m<module>\u001b[0;34m\u001b[0m\n\u001b[1;32m      1\u001b[0m \u001b[0;31m# load dataset\u001b[0m\u001b[0;34m\u001b[0m\u001b[0;34m\u001b[0m\u001b[0;34m\u001b[0m\u001b[0m\n\u001b[0;32m----> 2\u001b[0;31m \u001b[0mtrain\u001b[0m \u001b[0;34m=\u001b[0m \u001b[0mpd\u001b[0m\u001b[0;34m.\u001b[0m\u001b[0mread_csv\u001b[0m\u001b[0;34m(\u001b[0m\u001b[0;34m\"house-prices-advanced-regression-techniques/train.csv\"\u001b[0m\u001b[0;34m)\u001b[0m\u001b[0;34m\u001b[0m\u001b[0;34m\u001b[0m\u001b[0m\n\u001b[0m\u001b[1;32m      3\u001b[0m \u001b[0mtest\u001b[0m \u001b[0;34m=\u001b[0m \u001b[0mpd\u001b[0m\u001b[0;34m.\u001b[0m\u001b[0mread_csv\u001b[0m\u001b[0;34m(\u001b[0m\u001b[0;34m\"house-prices-advanced-regression-techniques/test.csv\"\u001b[0m\u001b[0;34m)\u001b[0m\u001b[0;34m\u001b[0m\u001b[0;34m\u001b[0m\u001b[0m\n",
      "\u001b[0;32m/anaconda3/envs/tf2/lib/python3.7/site-packages/pandas/io/parsers.py\u001b[0m in \u001b[0;36mparser_f\u001b[0;34m(filepath_or_buffer, sep, delimiter, header, names, index_col, usecols, squeeze, prefix, mangle_dupe_cols, dtype, engine, converters, true_values, false_values, skipinitialspace, skiprows, skipfooter, nrows, na_values, keep_default_na, na_filter, verbose, skip_blank_lines, parse_dates, infer_datetime_format, keep_date_col, date_parser, dayfirst, iterator, chunksize, compression, thousands, decimal, lineterminator, quotechar, quoting, doublequote, escapechar, comment, encoding, dialect, tupleize_cols, error_bad_lines, warn_bad_lines, delim_whitespace, low_memory, memory_map, float_precision)\u001b[0m\n\u001b[1;32m    700\u001b[0m                     skip_blank_lines=skip_blank_lines)\n\u001b[1;32m    701\u001b[0m \u001b[0;34m\u001b[0m\u001b[0m\n\u001b[0;32m--> 702\u001b[0;31m         \u001b[0;32mreturn\u001b[0m \u001b[0m_read\u001b[0m\u001b[0;34m(\u001b[0m\u001b[0mfilepath_or_buffer\u001b[0m\u001b[0;34m,\u001b[0m \u001b[0mkwds\u001b[0m\u001b[0;34m)\u001b[0m\u001b[0;34m\u001b[0m\u001b[0;34m\u001b[0m\u001b[0m\n\u001b[0m\u001b[1;32m    703\u001b[0m \u001b[0;34m\u001b[0m\u001b[0m\n\u001b[1;32m    704\u001b[0m     \u001b[0mparser_f\u001b[0m\u001b[0;34m.\u001b[0m\u001b[0m__name__\u001b[0m \u001b[0;34m=\u001b[0m \u001b[0mname\u001b[0m\u001b[0;34m\u001b[0m\u001b[0;34m\u001b[0m\u001b[0m\n",
      "\u001b[0;32m/anaconda3/envs/tf2/lib/python3.7/site-packages/pandas/io/parsers.py\u001b[0m in \u001b[0;36m_read\u001b[0;34m(filepath_or_buffer, kwds)\u001b[0m\n\u001b[1;32m    427\u001b[0m \u001b[0;34m\u001b[0m\u001b[0m\n\u001b[1;32m    428\u001b[0m     \u001b[0;31m# Create the parser.\u001b[0m\u001b[0;34m\u001b[0m\u001b[0;34m\u001b[0m\u001b[0;34m\u001b[0m\u001b[0m\n\u001b[0;32m--> 429\u001b[0;31m     \u001b[0mparser\u001b[0m \u001b[0;34m=\u001b[0m \u001b[0mTextFileReader\u001b[0m\u001b[0;34m(\u001b[0m\u001b[0mfilepath_or_buffer\u001b[0m\u001b[0;34m,\u001b[0m \u001b[0;34m**\u001b[0m\u001b[0mkwds\u001b[0m\u001b[0;34m)\u001b[0m\u001b[0;34m\u001b[0m\u001b[0;34m\u001b[0m\u001b[0m\n\u001b[0m\u001b[1;32m    430\u001b[0m \u001b[0;34m\u001b[0m\u001b[0m\n\u001b[1;32m    431\u001b[0m     \u001b[0;32mif\u001b[0m \u001b[0mchunksize\u001b[0m \u001b[0;32mor\u001b[0m \u001b[0miterator\u001b[0m\u001b[0;34m:\u001b[0m\u001b[0;34m\u001b[0m\u001b[0;34m\u001b[0m\u001b[0m\n",
      "\u001b[0;32m/anaconda3/envs/tf2/lib/python3.7/site-packages/pandas/io/parsers.py\u001b[0m in \u001b[0;36m__init__\u001b[0;34m(self, f, engine, **kwds)\u001b[0m\n\u001b[1;32m    893\u001b[0m             \u001b[0mself\u001b[0m\u001b[0;34m.\u001b[0m\u001b[0moptions\u001b[0m\u001b[0;34m[\u001b[0m\u001b[0;34m'has_index_names'\u001b[0m\u001b[0;34m]\u001b[0m \u001b[0;34m=\u001b[0m \u001b[0mkwds\u001b[0m\u001b[0;34m[\u001b[0m\u001b[0;34m'has_index_names'\u001b[0m\u001b[0;34m]\u001b[0m\u001b[0;34m\u001b[0m\u001b[0;34m\u001b[0m\u001b[0m\n\u001b[1;32m    894\u001b[0m \u001b[0;34m\u001b[0m\u001b[0m\n\u001b[0;32m--> 895\u001b[0;31m         \u001b[0mself\u001b[0m\u001b[0;34m.\u001b[0m\u001b[0m_make_engine\u001b[0m\u001b[0;34m(\u001b[0m\u001b[0mself\u001b[0m\u001b[0;34m.\u001b[0m\u001b[0mengine\u001b[0m\u001b[0;34m)\u001b[0m\u001b[0;34m\u001b[0m\u001b[0;34m\u001b[0m\u001b[0m\n\u001b[0m\u001b[1;32m    896\u001b[0m \u001b[0;34m\u001b[0m\u001b[0m\n\u001b[1;32m    897\u001b[0m     \u001b[0;32mdef\u001b[0m \u001b[0mclose\u001b[0m\u001b[0;34m(\u001b[0m\u001b[0mself\u001b[0m\u001b[0;34m)\u001b[0m\u001b[0;34m:\u001b[0m\u001b[0;34m\u001b[0m\u001b[0;34m\u001b[0m\u001b[0m\n",
      "\u001b[0;32m/anaconda3/envs/tf2/lib/python3.7/site-packages/pandas/io/parsers.py\u001b[0m in \u001b[0;36m_make_engine\u001b[0;34m(self, engine)\u001b[0m\n\u001b[1;32m   1120\u001b[0m     \u001b[0;32mdef\u001b[0m \u001b[0m_make_engine\u001b[0m\u001b[0;34m(\u001b[0m\u001b[0mself\u001b[0m\u001b[0;34m,\u001b[0m \u001b[0mengine\u001b[0m\u001b[0;34m=\u001b[0m\u001b[0;34m'c'\u001b[0m\u001b[0;34m)\u001b[0m\u001b[0;34m:\u001b[0m\u001b[0;34m\u001b[0m\u001b[0;34m\u001b[0m\u001b[0m\n\u001b[1;32m   1121\u001b[0m         \u001b[0;32mif\u001b[0m \u001b[0mengine\u001b[0m \u001b[0;34m==\u001b[0m \u001b[0;34m'c'\u001b[0m\u001b[0;34m:\u001b[0m\u001b[0;34m\u001b[0m\u001b[0;34m\u001b[0m\u001b[0m\n\u001b[0;32m-> 1122\u001b[0;31m             \u001b[0mself\u001b[0m\u001b[0;34m.\u001b[0m\u001b[0m_engine\u001b[0m \u001b[0;34m=\u001b[0m \u001b[0mCParserWrapper\u001b[0m\u001b[0;34m(\u001b[0m\u001b[0mself\u001b[0m\u001b[0;34m.\u001b[0m\u001b[0mf\u001b[0m\u001b[0;34m,\u001b[0m \u001b[0;34m**\u001b[0m\u001b[0mself\u001b[0m\u001b[0;34m.\u001b[0m\u001b[0moptions\u001b[0m\u001b[0;34m)\u001b[0m\u001b[0;34m\u001b[0m\u001b[0;34m\u001b[0m\u001b[0m\n\u001b[0m\u001b[1;32m   1123\u001b[0m         \u001b[0;32melse\u001b[0m\u001b[0;34m:\u001b[0m\u001b[0;34m\u001b[0m\u001b[0;34m\u001b[0m\u001b[0m\n\u001b[1;32m   1124\u001b[0m             \u001b[0;32mif\u001b[0m \u001b[0mengine\u001b[0m \u001b[0;34m==\u001b[0m \u001b[0;34m'python'\u001b[0m\u001b[0;34m:\u001b[0m\u001b[0;34m\u001b[0m\u001b[0;34m\u001b[0m\u001b[0m\n",
      "\u001b[0;32m/anaconda3/envs/tf2/lib/python3.7/site-packages/pandas/io/parsers.py\u001b[0m in \u001b[0;36m__init__\u001b[0;34m(self, src, **kwds)\u001b[0m\n\u001b[1;32m   1851\u001b[0m         \u001b[0mkwds\u001b[0m\u001b[0;34m[\u001b[0m\u001b[0;34m'usecols'\u001b[0m\u001b[0;34m]\u001b[0m \u001b[0;34m=\u001b[0m \u001b[0mself\u001b[0m\u001b[0;34m.\u001b[0m\u001b[0musecols\u001b[0m\u001b[0;34m\u001b[0m\u001b[0;34m\u001b[0m\u001b[0m\n\u001b[1;32m   1852\u001b[0m \u001b[0;34m\u001b[0m\u001b[0m\n\u001b[0;32m-> 1853\u001b[0;31m         \u001b[0mself\u001b[0m\u001b[0;34m.\u001b[0m\u001b[0m_reader\u001b[0m \u001b[0;34m=\u001b[0m \u001b[0mparsers\u001b[0m\u001b[0;34m.\u001b[0m\u001b[0mTextReader\u001b[0m\u001b[0;34m(\u001b[0m\u001b[0msrc\u001b[0m\u001b[0;34m,\u001b[0m \u001b[0;34m**\u001b[0m\u001b[0mkwds\u001b[0m\u001b[0;34m)\u001b[0m\u001b[0;34m\u001b[0m\u001b[0;34m\u001b[0m\u001b[0m\n\u001b[0m\u001b[1;32m   1854\u001b[0m         \u001b[0mself\u001b[0m\u001b[0;34m.\u001b[0m\u001b[0munnamed_cols\u001b[0m \u001b[0;34m=\u001b[0m \u001b[0mself\u001b[0m\u001b[0;34m.\u001b[0m\u001b[0m_reader\u001b[0m\u001b[0;34m.\u001b[0m\u001b[0munnamed_cols\u001b[0m\u001b[0;34m\u001b[0m\u001b[0;34m\u001b[0m\u001b[0m\n\u001b[1;32m   1855\u001b[0m \u001b[0;34m\u001b[0m\u001b[0m\n",
      "\u001b[0;32mpandas/_libs/parsers.pyx\u001b[0m in \u001b[0;36mpandas._libs.parsers.TextReader.__cinit__\u001b[0;34m()\u001b[0m\n",
      "\u001b[0;32mpandas/_libs/parsers.pyx\u001b[0m in \u001b[0;36mpandas._libs.parsers.TextReader._setup_parser_source\u001b[0;34m()\u001b[0m\n",
      "\u001b[0;31mFileNotFoundError\u001b[0m: [Errno 2] File b'house-prices-advanced-regression-techniques/train.csv' does not exist: b'house-prices-advanced-regression-techniques/train.csv'"
     ]
    }
   ],
   "source": [
    "# load dataset\n",
    "train = pd.read_csv(\"house-prices-advanced-regression-techniques/train.csv\")\n",
    "test = pd.read_csv(\"house-prices-advanced-regression-techniques/test.csv\")"
   ]
  },
  {
   "cell_type": "code",
   "execution_count": null,
   "metadata": {},
   "outputs": [],
   "source": [
    "# extract labels and index\n",
    "length = len(train)\n",
    "train_id = train[\"Id\"]\n",
    "test_id = test[\"Id\"]\n",
    "train_label = train[\"SalePrice\"]\n",
    "\n",
    "full = pd.concat([train, test], axis = 0).reset_index().drop(columns=[\"Id\", \"index\", \"SalePrice\"])"
   ]
  },
  {
   "cell_type": "code",
   "execution_count": null,
   "metadata": {},
   "outputs": [],
   "source": [
    "# observe ategorical data distribustion\n",
    "cat_cols = [col for col in full.select_dtypes(include=\"object\").columns]\n",
    "def cols():\n",
    "    for col in cat_cols:\n",
    "        yield col, full[col].value_counts(dropna=False)\n",
    "cols = cols()\n",
    "\n",
    "for col in cols:\n",
    "    print(col)"
   ]
  },
  {
   "cell_type": "code",
   "execution_count": null,
   "metadata": {},
   "outputs": [],
   "source": [
    "# feature processing\n",
    "def transform(x):\n",
    "    x = x.replace({\"Alley\":{np.nan:0, \"Grvl\":1, \"Pave\":2},\n",
    "                   \"BsmtCond\":{\"Ex\":5,\"Gd\":4,\"TA\":3,\"Fa\":2,\"Po\":1,np.nan:0},\n",
    "                   \"BsmtExposure\":{\"Gd\":4,\"Av\":3,\"Mn\":2,\"No\":1,np.nan:0},\n",
    "                   \"BsmtFinType1\":{\"GLQ\":6,\"ALQ\":5,\"BLQ\":4,\"Rec\":3,\"LwQ\":2,\"Unf\":1, np.nan:0},\n",
    "                   \"BsmtFinType2\":{\"GLQ\":6,\"ALQ\":5,\"BLQ\":4,\"Rec\":3,\"LwQ\":2,\"Unf\":1, np.nan:0},\n",
    "                   \"BsmtQual\":{\"Ex\":5,\"Gd\":4,\"TA\":3,\"Fa\":2,\"Po\":1,np.nan:0},\n",
    "                   \"CentralAir\":{\"Y\":1,\"N\":0},\n",
    "                   \"Electrical\":{\"SBrkr\":4,\"FuseA\":3,\"FuseF\":2,\"FuseP\":1,\"Mix\":0,np.nan:0},\n",
    "                   \"ExterCond\":{\"Ex\":4,\"Gd\":3,\"TA\":2,\"Fa\":1,\"Po\":0},\n",
    "                   \"Exterior1st\":{np.nan:x.Exterior1st.mode()[0]},\n",
    "                   \"Exterior2nd\":{np.nan:x.Exterior2nd.mode()[0]},\n",
    "                   \"ExterQual\":{\"Ex\":4,\"Gd\":3,\"TA\":2,\"Fa\":1,\"Po\":0},\n",
    "                   \"Fence\":{np.nan:\"None\"},\n",
    "                   \"FireplaceQu\":{\"Ex\":5,\"Gd\":4,\"TA\":3,\"Fa\":2,\"Po\":1,np.nan:0},\n",
    "                   \"Functional\":{\"Typ\":6,\"Min1\":5,\"Min2\":5,\"Mod\":4,\"Maj1\":3,\"Maj2\":3,\"Sev\":2,\"Sal\":1,np.nan:0},\n",
    "                   \"GarageCond\":{\"Ex\":5,\"Gd\":4,\"TA\":3,\"Fa\":2,\"Po\":1,np.nan:0},\n",
    "                   \"GarageFinish\":{\"Fin\":3,\"RFn\":2,\"Unf\":1,np.nan:0},\n",
    "                   \"GarageQual\":{\"Ex\":5,\"Gd\":4,\"TA\":3,\"Fa\":2,\"Po\":1,np.nan:0},\n",
    "                   \"GarageType\":{np.nan:\"None\"},\n",
    "                   \"HeatingQC\":{\"Ex\":4,\"Gd\":3,\"TA\":2,\"Fa\":1,\"Po\":0},\n",
    "                   \"KitchenQual\":{\"Ex\":5,\"Gd\":4,\"TA\":3,\"Fa\":2,\"Po\":1,np.nan:0},\n",
    "                   \"MSZoning\":{np.nan:x.MSZoning.mode()[0]},\n",
    "                   \"MasVnrType\":{np.nan:x.MasVnrType.mode()[0]},\n",
    "                   \"MiscFeature\":{np.nan:\"None\"},\n",
    "                   \"PavedDrive\":{\"Y\":2,\"P\":1,\"N\":0},\n",
    "                   \"PoolQC\":{\"Ex\":4,\"Gd\":3,\"TA\":2,\"Fa\":1,np.nan:0},\n",
    "                   \"Street\":{\"Grvl\":0, 'Pave':1},\n",
    "                   \"Utilities\":{\"AllPub\":4,\"NoSewr\":3,\"NoSeWa\":2,\"ELO\":1,np.nan:0},\n",
    "                   \"SaleType\":{np.nan:x.SaleType.mode()[0]}\n",
    "                  })\n",
    "    cat = [\"MSSubClass\", \"BldgType\", \"Condition1\", \"Condition2\", \"Exterior1st\", \n",
    "           \"Exterior2nd\", \"Fence\", \"Foundation\", \"GarageType\", \"Heating\", \n",
    "           \"HouseStyle\", \"LandContour\", \"LandSlope\", \"LotConfig\", \"LotShape\", \n",
    "           \"MSZoning\", \"MasVnrType\", \"MiscFeature\", \"Neighborhood\", \"RoofMatl\", \n",
    "           \"RoofStyle\", \"SaleCondition\", \"SaleType\", \"YearBuilt\", \"YearRemodAdd\",\n",
    "           \"MoSold\", \"YrSold\"]\n",
    "    x[cat] = x[cat].astype(\"object\")\n",
    "    num = [col for col in x.columns if col not in cat]\n",
    "    x[num] = x[num].fillna(0)\n",
    "    x[num].astype(\"int\", inplace=True)\n",
    "    \n",
    "    #ohc = OneHotEncoder(sparse=False)\n",
    "    #cat_ready = pd.DataFrame(ohc.fit_transform(x[cat]))\n",
    "    dummies = pd.get_dummies(x, drop_first=True)\n",
    "    \n",
    "    mms = MinMaxScaler()\n",
    "    ready = pd.DataFrame(mms.fit_transform(dummies))\n",
    "    \n",
    "    #data_ready = pd.concat([cat_ready, num_ready], axis=1)\n",
    "    return ready\n",
    "\n",
    "full = transform(full)\n",
    "test = trandform()"
   ]
  },
  {
   "cell_type": "code",
   "execution_count": null,
   "metadata": {},
   "outputs": [],
   "source": [
    "# prepare dataset for ML \n",
    "train_pro = full[:length]\n",
    "test = full[length:]\n",
    "\n",
    "X_train, y_train, X_test, y_test = train_test_split(train_pro, train_label, test_size=0.2, random_state=1988)"
   ]
  },
  {
   "cell_type": "code",
   "execution_count": null,
   "metadata": {},
   "outputs": [],
   "source": [
    "# RMSE for evaluation\n",
    "def rmse(true, test):\n",
    "    rmse = np.sqrt(mean_squared_error(true, test))\n",
    "    return rmse"
   ]
  },
  {
   "cell_type": "code",
   "execution_count": null,
   "metadata": {},
   "outputs": [],
   "source": [
    "# classic linear regression\n",
    "lr = LinearRegression()\n",
    "lr.fit(X_train, X_test)\n",
    "pred_lr = lr.predict(y_train)\n",
    "print(rmse(y_test, pred_lr))"
   ]
  },
  {
   "cell_type": "code",
   "execution_count": null,
   "metadata": {},
   "outputs": [],
   "source": [
    "param_grid = {\"alpha\":np.linspace(100, 10000, 10)}\n",
    "# lasso\n",
    "ls = Lasso()\n",
    "grid_ls = GridSearchCV(ls, param_grid=param_grid, cv=10)\n",
    "grid_ls.fit(X_train, X_test)\n",
    "pred_ls = grid_ls.predict(y_train)\n",
    "print(grid_ls.best_params_)\n",
    "print(grid_ls.best_score_)\n",
    "print(rmse(y_test, pred_ls))"
   ]
  },
  {
   "cell_type": "code",
   "execution_count": null,
   "metadata": {},
   "outputs": [],
   "source": [
    "# ridge\n",
    "rg = Ridge()\n",
    "grid_rg = GridSearchCV(rg, param_grid=param_grid, cv=10)\n",
    "grid_rg.fit(X_train, X_test)\n",
    "pred_rg = grid_rg.predict(y_train)\n",
    "print(grid_rg.best_params_)\n",
    "print(grid_rg.best_score_)\n",
    "print(rmse(y_test, pred_rg))"
   ]
  },
  {
   "cell_type": "code",
   "execution_count": null,
   "metadata": {},
   "outputs": [],
   "source": [
    "# tuning XGBoost round 1\n",
    "# https://www.jianshu.com/p/9abdc030307d\n",
    "param1 = {'max_depth': list(range(3,10)), 'min_child_weight': list((1,2,3,4,5,6))}\n",
    "xgb1 = XGBRegressor(eta=0.1, num_boost_round=50, colsample_bytree=0.5, subsample=0.5, seed=1988)\n",
    "grid_xgb1 = GridSearchCV(xgb1, param_grid=param1, cv=10)\n",
    "grid_xgb1.fit(X_train, X_test)\n",
    "pred_xgb1 = grid_xgb1.predict(y_train)\n",
    "print(grid_xgb1.best_params_)\n",
    "print(rmse(y_test, pred_xgb1))"
   ]
  },
  {
   "cell_type": "code",
   "execution_count": null,
   "metadata": {},
   "outputs": [],
   "source": [
    "# tuning XGBoost round 2\n",
    "param2 = {'gamma':np.linspace(0, 0.5, 10)}\n",
    "xgb2 = XGBRegressor(eta=0.1, num_boost_round=50, colsample_bytree=0.5, subsample=0.5, max_depth=6, min_child_weight=3)\n",
    "grid_xgb2 = GridSearchCV(xgb2, param_grid=param2, cv=10)\n",
    "grid_xgb2.fit(X_train, X_test)\n",
    "pred_xgb2 = grid_xgb2.predict(y_train)\n",
    "print(grid_xgb2.best_params_)\n",
    "print(rmse(y_test, pred_xgb2))"
   ]
  },
  {
   "cell_type": "code",
   "execution_count": null,
   "metadata": {},
   "outputs": [],
   "source": [
    "# tuning XGBoost round 3\n",
    "param3 = {'eta':[0.5,0.4,0.3,0.2,0.1,0.075,0.05,0.04,0.03], \"num_boost_round\":np.linspace(0, 200, 20)}\n",
    "xgb3 = XGBRegressor(colsample_bytree=0.5, subsample=0.5, max_depth=6, \n",
    "                    min_child_weight=3, gamma=0)\n",
    "grid_xgb3 = GridSearchCV(xgb3, param_grid=param3, cv=10)\n",
    "grid_xgb3.fit(X_train, X_test)\n",
    "pred_xgb3 = grid_xgb3.predict(y_train)\n",
    "print(grid_xgb3.best_params_)\n",
    "print(rmse(y_test, pred_xgb3))\n",
    "# no improvement, XGBoost done"
   ]
  },
  {
   "cell_type": "code",
   "execution_count": null,
   "metadata": {},
   "outputs": [],
   "source": [
    "# random forest\n",
    "param_rf = {\"n_estimators\":range(1, 10), \"max_depth\":range(1, 10)}\n",
    "rf = RandomForestRegressor()\n",
    "grid_rf = GridSearchCV(rf, param_grid=param_rf, cv=10)\n",
    "grid_rf.fit(X_train, X_test)\n",
    "pred_rf = grid_rf.predict(y_train)\n",
    "print(grid_rf.best_params_)\n",
    "print(rmse(y_test, pred_rf))"
   ]
  },
  {
   "cell_type": "code",
   "execution_count": null,
   "metadata": {
    "scrolled": true
   },
   "outputs": [],
   "source": [
    "pred = grid_ls.predict(test) * 0.7 + grid_xgb3.predict(test) * 0.2 + grid_rf.predict(test) * 0.1"
   ]
  },
  {
   "cell_type": "code",
   "execution_count": null,
   "metadata": {},
   "outputs": [],
   "source": [
    "score = pd.DataFrame()\n",
    "score[\"Id\"] = test_id\n",
    "score[\"SalePrice\"] = pred\n",
    "score.to_csv('submission.csv',index=False)"
   ]
  },
  {
   "cell_type": "code",
   "execution_count": null,
   "metadata": {},
   "outputs": [],
   "source": []
  }
 ],
 "metadata": {
  "kernelspec": {
   "display_name": "tf2",
   "language": "python",
   "name": "tf2"
  },
  "language_info": {
   "codemirror_mode": {
    "name": "ipython",
    "version": 3
   },
   "file_extension": ".py",
   "mimetype": "text/x-python",
   "name": "python",
   "nbconvert_exporter": "python",
   "pygments_lexer": "ipython3",
   "version": "3.7.3"
  }
 },
 "nbformat": 4,
 "nbformat_minor": 2
}
