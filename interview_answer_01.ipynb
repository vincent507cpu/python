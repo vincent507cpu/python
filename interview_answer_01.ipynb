{
 "cells": [
  {
   "cell_type": "markdown",
   "metadata": {},
   "source": [
    "```\n",
    "2. Simple Number Finding\n",
    "You are playing a card game with your friends. This game in China named “扎金花”. In this game, the\n",
    "2, 3, 5 are some simple powerful numbers. Because the combination of 2,3,5 is less than any other combinations but greater than the AAA, which is the king in this game. In today, you want to find if a number is a simple number, in which their factors only include 2, 3 and 5.\n",
    "So your task is to find out whether a given number is an amazing number.\n",
    "E.g\n",
    "Input: 6\n",
    "Output: (2, 3) Explanation: 6 = 2 x 3\n",
    "Input: 8\n",
    "Output: (2, 2, 2) Explanation: 8 = 2 x 2 x 2\n",
    "Input: 14\n",
    "Output:None\n",
    "Explanation: 14 is not amazing since it includes another prime factor 7.\n",
    "How to check your answer:\n",
    "If you test 1845281250, your program should give (2, 3, 3, 3, 3, 3, 3, 3, 3, 3, 3, 5, 5, 5, 5, 5, 5)\n",
    "If you test 3690562500, your program should give (2, 2, 3, 3, 3, 3, 3, 3, 3, 3, 3, 3, 5, 5, 5, 5, 5, 5); If you test 1230187500, your program should give (2, 2, 3, 3, 3, 3, 3, 3, 3, 3, 3, 5, 5, 5, 5, 5, 5);\n",
    "If you test 10023750, your program should give None;\n",
    "```"
   ]
  },
  {
   "cell_type": "code",
   "execution_count": 1,
   "metadata": {},
   "outputs": [],
   "source": [
    "def amazing_num(n):\n",
    "    \"\"\"\n",
    "    Algorithm: Because 2, 3, 5 is a prime number of each other, I can safely find how many 2, 3, 5 \n",
    "    are the factors of a given number one after another. If there are only 2, 3, 5s as factors of this number,\n",
    "    the final number should be 1. Just to be consistent with the given answer, I put factors in order\n",
    "    of 2, 3, 5. If a number contains other factors, return None.\n",
    "    \n",
    "    P. S. This is the simplest algorithm I can think of, I don't believe there is ever a simpler algorithm\n",
    "    than this. If there is, please let me know. Thanks in advance!\n",
    "    \"\"\"\n",
    "    lst = []\n",
    "    for factor in [2, 3, 5]:\n",
    "        while n % factor == 0:\n",
    "            n = n / factor\n",
    "            lst.append(factor)\n",
    "\n",
    "    if n == 1:\n",
    "        return lst\n",
    "    else:\n",
    "        return \"None\""
   ]
  },
  {
   "cell_type": "code",
   "execution_count": 2,
   "metadata": {},
   "outputs": [
    {
     "name": "stdout",
     "output_type": "stream",
     "text": [
      "CPU times: user 30 µs, sys: 1 µs, total: 31 µs\n",
      "Wall time: 34.1 µs\n"
     ]
    },
    {
     "data": {
      "text/plain": [
       "[2, 3, 3, 3, 3, 3, 3, 3, 3, 3, 3, 5, 5, 5, 5, 5, 5]"
      ]
     },
     "execution_count": 2,
     "metadata": {},
     "output_type": "execute_result"
    }
   ],
   "source": [
    "%time amazing_num(1845281250)"
   ]
  },
  {
   "cell_type": "code",
   "execution_count": 3,
   "metadata": {},
   "outputs": [
    {
     "name": "stdout",
     "output_type": "stream",
     "text": [
      "CPU times: user 12 µs, sys: 1 µs, total: 13 µs\n",
      "Wall time: 15 µs\n"
     ]
    },
    {
     "data": {
      "text/plain": [
       "[2, 2, 3, 3, 3, 3, 3, 3, 3, 3, 3, 3, 5, 5, 5, 5, 5, 5]"
      ]
     },
     "execution_count": 3,
     "metadata": {},
     "output_type": "execute_result"
    }
   ],
   "source": [
    "%time amazing_num(3690562500)"
   ]
  },
  {
   "cell_type": "code",
   "execution_count": 4,
   "metadata": {},
   "outputs": [
    {
     "name": "stdout",
     "output_type": "stream",
     "text": [
      "CPU times: user 16 µs, sys: 1 µs, total: 17 µs\n",
      "Wall time: 21.2 µs\n"
     ]
    },
    {
     "data": {
      "text/plain": [
       "[2, 2, 3, 3, 3, 3, 3, 3, 3, 3, 3, 5, 5, 5, 5, 5, 5]"
      ]
     },
     "execution_count": 4,
     "metadata": {},
     "output_type": "execute_result"
    }
   ],
   "source": [
    "%time amazing_num(1230187500)"
   ]
  },
  {
   "cell_type": "code",
   "execution_count": 5,
   "metadata": {},
   "outputs": [
    {
     "name": "stdout",
     "output_type": "stream",
     "text": [
      "CPU times: user 10 µs, sys: 0 ns, total: 10 µs\n",
      "Wall time: 14.1 µs\n"
     ]
    },
    {
     "data": {
      "text/plain": [
       "'None'"
      ]
     },
     "execution_count": 5,
     "metadata": {},
     "output_type": "execute_result"
    }
   ],
   "source": [
    "%time amazing_num(10023750)"
   ]
  },
  {
   "cell_type": "markdown",
   "metadata": {},
   "source": [
    "# Teacher's key:"
   ]
  },
  {
   "cell_type": "code",
   "execution_count": 6,
   "metadata": {},
   "outputs": [
    {
     "name": "stdout",
     "output_type": "stream",
     "text": [
      "[2, 3.0]\n",
      "[2, 2, 2.0]\n",
      "None\n",
      "[2, 3, 3, 3, 3, 3, 3, 3, 3, 3, 3, 5, 5, 5, 5, 5, 5.0]\n",
      "CPU times: user 83.4 ms, sys: 2.51 ms, total: 85.9 ms\n",
      "Wall time: 84.6 ms\n",
      "[2, 2, 3, 3, 3, 3, 3, 3, 3, 3, 3, 3, 5, 5, 5, 5, 5, 5.0]\n",
      "CPU times: user 169 ms, sys: 2.2 ms, total: 171 ms\n",
      "Wall time: 170 ms\n",
      "[2, 2, 3, 3, 3, 3, 3, 3, 3, 3, 3, 5, 5, 5, 5, 5, 5.0]\n",
      "CPU times: user 79.1 ms, sys: 751 µs, total: 79.9 ms\n",
      "Wall time: 79.8 ms\n",
      "None\n",
      "CPU times: user 6.23 ms, sys: 304 µs, total: 6.54 ms\n",
      "Wall time: 6.45 ms\n"
     ]
    }
   ],
   "source": [
    "def get_simple_factors(n):\n",
    "    simple_words = [2, 3, 5]\n",
    "    if n in simple_words: \n",
    "        return [n]\n",
    "    for s in simple_words:\n",
    "        could_be_divided, remain = (n % s == 0), n / s\n",
    "        if could_be_divided and get_simple_factors(remain):\n",
    "            return [s] + get_simple_factors(remain)\n",
    "    return None\n",
    "print(get_simple_factors(6))\n",
    "print(get_simple_factors(8))\n",
    "print(get_simple_factors(14))\n",
    "%time print(get_simple_factors(1845281250))\n",
    "%time print(get_simple_factors(3690562500))\n",
    "%time print(get_simple_factors(1230187500))\n",
    "%time print(get_simple_factors(10023750))"
   ]
  },
  {
   "cell_type": "markdown",
   "metadata": {},
   "source": [
    "# Comment:\n",
    "To be honest, I still believe my code is better. I have several reasons:\n",
    "\n",
    "1. My code is clearer, more intuitive and easier to understand.\n",
    "2. My code has a much better performance. My code is more than 1000 time faster than the key. Program performance is the key for big data.\n",
    "\n",
    "Also the key has a trivial problem: the last factor is float. Although it's easy to fix, it requires additional work. \n",
    "\n",
    "But I have to say the key is beautiful. Well done."
   ]
  }
 ],
 "metadata": {
  "kernelspec": {
   "display_name": "Python 3",
   "language": "python",
   "name": "python3"
  },
  "language_info": {
   "codemirror_mode": {
    "name": "ipython",
    "version": 3
   },
   "file_extension": ".py",
   "mimetype": "text/x-python",
   "name": "python",
   "nbconvert_exporter": "python",
   "pygments_lexer": "ipython3",
   "version": "3.7.2"
  }
 },
 "nbformat": 4,
 "nbformat_minor": 2
}
