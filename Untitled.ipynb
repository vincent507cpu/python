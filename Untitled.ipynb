{
 "cells": [
  {
   "cell_type": "code",
   "execution_count": 1,
   "metadata": {},
   "outputs": [
    {
     "ename": "SyntaxError",
     "evalue": "'return' outside function (<ipython-input-1-c7b6ce6b53b8>, line 8)",
     "output_type": "error",
     "traceback": [
      "\u001b[0;36m  File \u001b[0;32m\"<ipython-input-1-c7b6ce6b53b8>\"\u001b[0;36m, line \u001b[0;32m8\u001b[0m\n\u001b[0;31m    return False\u001b[0m\n\u001b[0m    ^\u001b[0m\n\u001b[0;31mSyntaxError\u001b[0m\u001b[0;31m:\u001b[0m 'return' outside function\n"
     ]
    }
   ],
   "source": [
    "x = 524\n",
    "\n",
    "temp = x\n",
    "a = 0\n",
    "b = 0\n",
    "c = 0\n",
    "if x < 0:\n",
    "    return False\n",
    "elif x == 0:\n",
    "    return True\n",
    "else:\n",
    "    if x % 10 == 0:\n",
    "        return False\n",
    "    else:\n",
    "        while a // 10 != 0:\n",
    "            a = temp % 10\n",
    "            print(a)\n",
    "            b = int(temp / 10)\n",
    "            print(b)\n",
    "            c = (a + c) * 10\n",
    "            print(c)\n",
    "        c = c + b\n",
    "        \n",
    "        if x == c:\n",
    "            return True\n",
    "        else:\n",
    "            return False"
   ]
  },
  {
   "cell_type": "code",
   "execution_count": 8,
   "metadata": {},
   "outputs": [
    {
     "name": "stdout",
     "output_type": "stream",
     "text": [
      "b 4\n",
      "a 52\n",
      "c 40\n",
      "b 2\n",
      "a 5\n",
      "c 420\n",
      "425\n"
     ]
    }
   ],
   "source": [
    "x = 524\n",
    "\n",
    "\n",
    "a = x\n",
    "b = 0\n",
    "c = 0\n"
   ]
  },
  {
   "cell_type": "code",
   "execution_count": 5,
   "metadata": {},
   "outputs": [
    {
     "data": {
      "text/plain": [
       "4"
      ]
     },
     "execution_count": 5,
     "metadata": {},
     "output_type": "execute_result"
    }
   ],
   "source": [
    "4 % 10"
   ]
  },
  {
   "cell_type": "code",
   "execution_count": null,
   "metadata": {},
   "outputs": [],
   "source": []
  }
 ],
 "metadata": {
  "kernelspec": {
   "display_name": "tf2",
   "language": "python",
   "name": "tf2"
  },
  "language_info": {
   "codemirror_mode": {
    "name": "ipython",
    "version": 3
   },
   "file_extension": ".py",
   "mimetype": "text/x-python",
   "name": "python",
   "nbconvert_exporter": "python",
   "pygments_lexer": "ipython3",
   "version": "3.7.3"
  }
 },
 "nbformat": 4,
 "nbformat_minor": 2
}
