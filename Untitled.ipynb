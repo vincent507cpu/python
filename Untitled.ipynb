{
 "cells": [
  {
   "cell_type": "code",
   "execution_count": 1,
   "metadata": {},
   "outputs": [
    {
     "name": "stdout",
     "output_type": "stream",
     "text": [
      "18\n"
     ]
    }
   ],
   "source": [
    "s = list(\"IXIX\")\n",
    "\n",
    "roman = {\"I\":1, \"a\":5, \"X\":10, \"L\":50, \"C\":100, \"D\":500, \"M\":1000}\n",
    "a = 0\n",
    "\n",
    "while len(s) > 0:\n",
    "    if len(s) == 1:\n",
    "        a += roman[s[0]]\n",
    "        pop[s]\n",
    "    elif len(s) == 2:\n",
    "        if roman[s[0]] >= roman[s[1]]:\n",
    "            a += roman[s[0]]\n",
    "            s.pop(0)\n",
    "        else:\n",
    "            a += roman[s[1]] - roman[s[0]]\n",
    "            s.pop(0); s.pop(0)\n",
    "    else:\n",
    "        if roman[s[0]] >= roman[s[1]]:\n",
    "            a += roman[s[0]]\n",
    "            s.pop(0)\n",
    "        else:\n",
    "            a += roman[s[1]] - roman[s[0]]\n",
    "            s.pop(0); s.pop(0)\n",
    "            \n",
    "print(a)"
   ]
  },
  {
   "cell_type": "code",
   "execution_count": 2,
   "metadata": {},
   "outputs": [
    {
     "ename": "SyntaxError",
     "evalue": "invalid syntax (<ipython-input-2-0058cbb2de2e>, line 6)",
     "output_type": "error",
     "traceback": [
      "\u001b[0;36m  File \u001b[0;32m\"<ipython-input-2-0058cbb2de2e>\"\u001b[0;36m, line \u001b[0;32m6\u001b[0m\n\u001b[0;31m    else:\u001b[0m\n\u001b[0m       ^\u001b[0m\n\u001b[0;31mSyntaxError\u001b[0m\u001b[0;31m:\u001b[0m invalid syntax\n"
     ]
    }
   ],
   "source": [
    "s = list(\"MCMXCIV\")\n",
    "lst = []\n",
    "while len(s) > 1:\n",
    "    if dict[s[0]] >= dict[s[1]]:\n",
    "        lst.append(s.pop(0)\n",
    "    else:\n",
    "        lst.append([s.pop(1), s.pop(1)]))\n",
    "print(lst)"
   ]
  },
  {
   "cell_type": "code",
   "execution_count": null,
   "metadata": {},
   "outputs": [],
   "source": [
    "s = list(\"MCMXCIV\")\n",
    "lst = []\n",
    "lst.append([s.pop(1), s.pop(1)])\n",
    "lst"
   ]
  },
  {
   "cell_type": "code",
   "execution_count": 28,
   "metadata": {},
   "outputs": [
    {
     "data": {
      "text/plain": [
       "True"
      ]
     },
     "execution_count": 28,
     "metadata": {},
     "output_type": "execute_result"
    }
   ],
   "source": [
    "a = \"orange\"\n",
    "a.endswith(\"g\", 1, 5)"
   ]
  },
  {
   "cell_type": "code",
   "execution_count": 20,
   "metadata": {},
   "outputs": [
    {
     "name": "stdout",
     "output_type": "stream",
     "text": [
      "3 : o\n",
      "4 : r\n",
      "5 : a\n",
      "6 : n\n",
      "7 : g\n",
      "8 : e\n"
     ]
    }
   ],
   "source": [
    "for i, st in enumerate(a):\n",
    "    print(i, \":\", st)"
   ]
  },
  {
   "cell_type": "code",
   "execution_count": 29,
   "metadata": {},
   "outputs": [
    {
     "data": {
      "text/plain": [
       "2"
      ]
     },
     "execution_count": 29,
     "metadata": {},
     "output_type": "execute_result"
    }
   ],
   "source": [
    "str = \"I ate an apple.\"\n",
    "str.find(\"a\")"
   ]
  },
  {
   "cell_type": "code",
   "execution_count": 32,
   "metadata": {},
   "outputs": [
    {
     "data": {
      "text/plain": [
       "'I ate an a'"
      ]
     },
     "execution_count": 32,
     "metadata": {},
     "output_type": "execute_result"
    }
   ],
   "source": [
    "str = \"   I ate an apple.   \"\n",
    "str.strip(\"ple. \")"
   ]
  },
  {
   "cell_type": "code",
   "execution_count": 45,
   "metadata": {},
   "outputs": [
    {
     "data": {
      "text/html": [
       "<div>\n",
       "<style scoped>\n",
       "    .dataframe tbody tr th:only-of-type {\n",
       "        vertical-align: middle;\n",
       "    }\n",
       "\n",
       "    .dataframe tbody tr th {\n",
       "        vertical-align: top;\n",
       "    }\n",
       "\n",
       "    .dataframe thead th {\n",
       "        text-align: right;\n",
       "    }\n",
       "</style>\n",
       "<table border=\"1\" class=\"dataframe\">\n",
       "  <thead>\n",
       "    <tr style=\"text-align: right;\">\n",
       "      <th></th>\n",
       "      <th>sepal_length</th>\n",
       "      <th>sepal_width</th>\n",
       "      <th>petal_length</th>\n",
       "      <th>petal_width</th>\n",
       "    </tr>\n",
       "  </thead>\n",
       "  <tbody>\n",
       "    <tr>\n",
       "      <th>aa</th>\n",
       "      <td>5.1</td>\n",
       "      <td>3.5</td>\n",
       "      <td>1.4</td>\n",
       "      <td>0.2</td>\n",
       "    </tr>\n",
       "    <tr>\n",
       "      <th>ab</th>\n",
       "      <td>4.9</td>\n",
       "      <td>3.0</td>\n",
       "      <td>1.4</td>\n",
       "      <td>0.2</td>\n",
       "    </tr>\n",
       "    <tr>\n",
       "      <th>ac</th>\n",
       "      <td>4.7</td>\n",
       "      <td>3.2</td>\n",
       "      <td>1.3</td>\n",
       "      <td>0.2</td>\n",
       "    </tr>\n",
       "    <tr>\n",
       "      <th>ad</th>\n",
       "      <td>4.6</td>\n",
       "      <td>3.1</td>\n",
       "      <td>1.5</td>\n",
       "      <td>0.2</td>\n",
       "    </tr>\n",
       "    <tr>\n",
       "      <th>ae</th>\n",
       "      <td>5.0</td>\n",
       "      <td>3.6</td>\n",
       "      <td>1.4</td>\n",
       "      <td>0.2</td>\n",
       "    </tr>\n",
       "  </tbody>\n",
       "</table>\n",
       "</div>"
      ],
      "text/plain": [
       "    sepal_length  sepal_width  petal_length  petal_width\n",
       "aa           5.1          3.5           1.4          0.2\n",
       "ab           4.9          3.0           1.4          0.2\n",
       "ac           4.7          3.2           1.3          0.2\n",
       "ad           4.6          3.1           1.5          0.2\n",
       "ae           5.0          3.6           1.4          0.2"
      ]
     },
     "execution_count": 45,
     "metadata": {},
     "output_type": "execute_result"
    }
   ],
   "source": [
    "import pandas as pd\n",
    "from sklearn.datasets import load_iris\n",
    "iris = pd.DataFrame(load_iris()[\"data\"])\n",
    "iris.columns = [\"sepal_length\", \"sepal_width\",\n",
    "                \"petal_length\", \"petal_width\"]\n",
    "from string import ascii_lowercase\n",
    "idx = []\n",
    "for i in ascii_lowercase:\n",
    "    for j in ascii_lowercase:\n",
    "        idx.append(i + j)\n",
    "iris.index = idx[:150]\n",
    "iris.head()"
   ]
  },
  {
   "cell_type": "code",
   "execution_count": 59,
   "metadata": {},
   "outputs": [
    {
     "data": {
      "text/html": [
       "<div>\n",
       "<style scoped>\n",
       "    .dataframe tbody tr th:only-of-type {\n",
       "        vertical-align: middle;\n",
       "    }\n",
       "\n",
       "    .dataframe tbody tr th {\n",
       "        vertical-align: top;\n",
       "    }\n",
       "\n",
       "    .dataframe thead th {\n",
       "        text-align: right;\n",
       "    }\n",
       "</style>\n",
       "<table border=\"1\" class=\"dataframe\">\n",
       "  <thead>\n",
       "    <tr style=\"text-align: right;\">\n",
       "      <th></th>\n",
       "      <th>sepal_length</th>\n",
       "      <th>sepal_width</th>\n",
       "    </tr>\n",
       "  </thead>\n",
       "  <tbody>\n",
       "    <tr>\n",
       "      <th>ab</th>\n",
       "      <td>4.9</td>\n",
       "      <td>3.0</td>\n",
       "    </tr>\n",
       "    <tr>\n",
       "      <th>ac</th>\n",
       "      <td>4.7</td>\n",
       "      <td>3.2</td>\n",
       "    </tr>\n",
       "  </tbody>\n",
       "</table>\n",
       "</div>"
      ],
      "text/plain": [
       "    sepal_length  sepal_width\n",
       "ab           4.9          3.0\n",
       "ac           4.7          3.2"
      ]
     },
     "execution_count": 59,
     "metadata": {},
     "output_type": "execute_result"
    }
   ],
   "source": [
    "iris.iloc[1:3, 0:2]"
   ]
  },
  {
   "cell_type": "code",
   "execution_count": 55,
   "metadata": {},
   "outputs": [
    {
     "data": {
      "text/html": [
       "<div>\n",
       "<style scoped>\n",
       "    .dataframe tbody tr th:only-of-type {\n",
       "        vertical-align: middle;\n",
       "    }\n",
       "\n",
       "    .dataframe tbody tr th {\n",
       "        vertical-align: top;\n",
       "    }\n",
       "\n",
       "    .dataframe thead th {\n",
       "        text-align: right;\n",
       "    }\n",
       "</style>\n",
       "<table border=\"1\" class=\"dataframe\">\n",
       "  <thead>\n",
       "    <tr style=\"text-align: right;\">\n",
       "      <th></th>\n",
       "      <th>sepal_length</th>\n",
       "      <th>petal_length</th>\n",
       "    </tr>\n",
       "  </thead>\n",
       "  <tbody>\n",
       "    <tr>\n",
       "      <th>aa</th>\n",
       "      <td>5.1</td>\n",
       "      <td>1.4</td>\n",
       "    </tr>\n",
       "    <tr>\n",
       "      <th>ab</th>\n",
       "      <td>4.9</td>\n",
       "      <td>1.4</td>\n",
       "    </tr>\n",
       "    <tr>\n",
       "      <th>ac</th>\n",
       "      <td>4.7</td>\n",
       "      <td>1.3</td>\n",
       "    </tr>\n",
       "    <tr>\n",
       "      <th>ad</th>\n",
       "      <td>4.6</td>\n",
       "      <td>1.5</td>\n",
       "    </tr>\n",
       "    <tr>\n",
       "      <th>ae</th>\n",
       "      <td>5.0</td>\n",
       "      <td>1.4</td>\n",
       "    </tr>\n",
       "  </tbody>\n",
       "</table>\n",
       "</div>"
      ],
      "text/plain": [
       "    sepal_length  petal_length\n",
       "aa           5.1           1.4\n",
       "ab           4.9           1.4\n",
       "ac           4.7           1.3\n",
       "ad           4.6           1.5\n",
       "ae           5.0           1.4"
      ]
     },
     "execution_count": 55,
     "metadata": {},
     "output_type": "execute_result"
    }
   ],
   "source": [
    "lst = [\"sepal_length\",\"petal_length\"]\n",
    "iris[lst].head()"
   ]
  },
  {
   "cell_type": "code",
   "execution_count": 165,
   "metadata": {},
   "outputs": [
    {
     "name": "stdout",
     "output_type": "stream",
     "text": [
      "first loop: 1\n",
      "second loop: 1\n",
      "third loop: 1\n",
      "b is: c\n",
      "k: 1 if b[-k]: c a: ['d', 'o']\n",
      "third loop: 2\n",
      "b is: r\n",
      "k: 2 if b[-k]: r a: ['d']\n",
      "second loop: 2\n",
      "first loop: 2\n",
      "second loop: 1\n",
      "second loop: 2\n"
     ]
    },
    {
     "data": {
      "text/plain": [
       "'d'"
      ]
     },
     "execution_count": 165,
     "metadata": {},
     "output_type": "execute_result"
    }
   ],
   "source": [
    "def com():\n",
    "    strs = [\"dog\",\"racecar\",\"car\"]\n",
    "    n_min = min([len(x) for x in strs])\n",
    "    a=list(strs[0][:n+1])\n",
    "    for i in range(1, len(strs)):\n",
    "        print(\"first loop:\", i)\n",
    "        for j in range(1, len(strs)):\n",
    "            print(\"second loop:\", j)\n",
    "            for k in range(1, len(a)):\n",
    "                print(\"third loop:\", k)\n",
    "                b = strs[j][:len(a)]\n",
    "                print(\"b is:\", b[-k])\n",
    "                if a[-k] != b[-k]:\n",
    "                    a.remove(a[-1])\n",
    "                    print(\"k:\", k, \"if b[-k]:\", b[-k], \"a:\", a)\n",
    "                else:\n",
    "                    print(\"else b:\", b, \"a:\", a)\n",
    "                    next\n",
    "    if a != False:\n",
    "        return \"\".join(a)\n",
    "    else:\n",
    "        return \"\"\n",
    "com()"
   ]
  },
  {
   "cell_type": "code",
   "execution_count": 194,
   "metadata": {},
   "outputs": [
    {
     "data": {
      "text/plain": [
       "'c'"
      ]
     },
     "execution_count": 194,
     "metadata": {},
     "output_type": "execute_result"
    }
   ],
   "source": [
    "s1 = [\"flower\",\"flow\",\"flight\"]\n",
    "s2 = []\n",
    "s3 = [\"\",\"\"]\n",
    "s4 = [\"c\",\"c\"]\n",
    "s5 = [\"a\",\"a\",\"b\"]\n",
    "s6 = [\"dog\",\"racecar\",\"car\"]\n",
    "s7 = [\"aa\",\"a\"]\n",
    "def com(strs):\n",
    "    if not strs:\n",
    "        return \"\"\n",
    "    for el in strs:      \n",
    "        if not el:\n",
    "            return \"\"\n",
    "    if len(strs) == 1:\n",
    "        return strs[0]\n",
    "    for i in range(len(strs[0])):\n",
    "        for word in strs[1:]:\n",
    "            if i == 0 and strs[0][i] != word[i]:\n",
    "                return \"\"\n",
    "            elif i >= len(word) or strs[0][i] != word[i]:\n",
    "                return strs[0][:i]\n",
    "            \n",
    "            if word == strs[0]:\n",
    "                return strs[0]\n",
    "com(s4)"
   ]
  },
  {
   "cell_type": "code",
   "execution_count": 215,
   "metadata": {},
   "outputs": [
    {
     "data": {
      "text/plain": [
       "'a'"
      ]
     },
     "execution_count": 215,
     "metadata": {},
     "output_type": "execute_result"
    }
   ],
   "source": [
    "s1 = [\"flower\",\"flow\",\"flight\"]\n",
    "s2 = []\n",
    "s3 = [\"\",\"\"]\n",
    "s4 = [\"c\",\"c\"]\n",
    "s5 = [\"a\",\"a\",\"b\"]\n",
    "s6 = [\"dog\",\"racecar\",\"car\"]\n",
    "s7 = [\"aa\",\"a\"]\n",
    "\n",
    "def a(s):\n",
    "    if not a:\n",
    "        return \"\"\n",
    "    if len(s) == 1:\n",
    "        return s[0]\n",
    "    pre = s[0]\n",
    "    for i in range(1, len(s)):\n",
    "        while not s[i].startswith(pre):\n",
    "            pre = pre[:-1]\n",
    "        return pre\n",
    "a(s7)"
   ]
  },
  {
   "cell_type": "code",
   "execution_count": 216,
   "metadata": {},
   "outputs": [
    {
     "data": {
      "text/plain": [
       "['In',\n",
       " 'Out',\n",
       " '_',\n",
       " '_1',\n",
       " '_10',\n",
       " '_105',\n",
       " '_107',\n",
       " '_11',\n",
       " '_12',\n",
       " '_123',\n",
       " '_13',\n",
       " '_14',\n",
       " '_147',\n",
       " '_148',\n",
       " '_149',\n",
       " '_15',\n",
       " '_150',\n",
       " '_151',\n",
       " '_155',\n",
       " '_156',\n",
       " '_158',\n",
       " '_159',\n",
       " '_16',\n",
       " '_162',\n",
       " '_163',\n",
       " '_164',\n",
       " '_165',\n",
       " '_17',\n",
       " '_173',\n",
       " '_174',\n",
       " '_175',\n",
       " '_176',\n",
       " '_177',\n",
       " '_178',\n",
       " '_179',\n",
       " '_18',\n",
       " '_180',\n",
       " '_181',\n",
       " '_182',\n",
       " '_183',\n",
       " '_185',\n",
       " '_186',\n",
       " '_187',\n",
       " '_189',\n",
       " '_19',\n",
       " '_190',\n",
       " '_192',\n",
       " '_194',\n",
       " '_195',\n",
       " '_196',\n",
       " '_199',\n",
       " '_200',\n",
       " '_201',\n",
       " '_202',\n",
       " '_203',\n",
       " '_204',\n",
       " '_205',\n",
       " '_206',\n",
       " '_207',\n",
       " '_208',\n",
       " '_21',\n",
       " '_211',\n",
       " '_212',\n",
       " '_213',\n",
       " '_214',\n",
       " '_215',\n",
       " '_22',\n",
       " '_23',\n",
       " '_24',\n",
       " '_25',\n",
       " '_26',\n",
       " '_27',\n",
       " '_28',\n",
       " '_29',\n",
       " '_3',\n",
       " '_30',\n",
       " '_31',\n",
       " '_32',\n",
       " '_34',\n",
       " '_35',\n",
       " '_36',\n",
       " '_38',\n",
       " '_4',\n",
       " '_40',\n",
       " '_41',\n",
       " '_42',\n",
       " '_44',\n",
       " '_45',\n",
       " '_46',\n",
       " '_47',\n",
       " '_48',\n",
       " '_49',\n",
       " '_50',\n",
       " '_52',\n",
       " '_53',\n",
       " '_55',\n",
       " '_56',\n",
       " '_57',\n",
       " '_58',\n",
       " '_59',\n",
       " '_6',\n",
       " '_62',\n",
       " '_63',\n",
       " '_64',\n",
       " '_67',\n",
       " '_68',\n",
       " '_69',\n",
       " '_70',\n",
       " '_71',\n",
       " '_72',\n",
       " '_73',\n",
       " '_76',\n",
       " '_77',\n",
       " '_78',\n",
       " '_79',\n",
       " '_8',\n",
       " '_80',\n",
       " '_82',\n",
       " '__',\n",
       " '___',\n",
       " '__builtin__',\n",
       " '__builtins__',\n",
       " '__doc__',\n",
       " '__loader__',\n",
       " '__name__',\n",
       " '__package__',\n",
       " '__spec__',\n",
       " '_dh',\n",
       " '_i',\n",
       " '_i1',\n",
       " '_i10',\n",
       " '_i100',\n",
       " '_i101',\n",
       " '_i102',\n",
       " '_i103',\n",
       " '_i104',\n",
       " '_i105',\n",
       " '_i106',\n",
       " '_i107',\n",
       " '_i108',\n",
       " '_i109',\n",
       " '_i11',\n",
       " '_i110',\n",
       " '_i111',\n",
       " '_i112',\n",
       " '_i113',\n",
       " '_i114',\n",
       " '_i115',\n",
       " '_i116',\n",
       " '_i117',\n",
       " '_i118',\n",
       " '_i119',\n",
       " '_i12',\n",
       " '_i120',\n",
       " '_i121',\n",
       " '_i122',\n",
       " '_i123',\n",
       " '_i124',\n",
       " '_i125',\n",
       " '_i126',\n",
       " '_i127',\n",
       " '_i128',\n",
       " '_i129',\n",
       " '_i13',\n",
       " '_i130',\n",
       " '_i131',\n",
       " '_i132',\n",
       " '_i133',\n",
       " '_i134',\n",
       " '_i135',\n",
       " '_i136',\n",
       " '_i137',\n",
       " '_i138',\n",
       " '_i139',\n",
       " '_i14',\n",
       " '_i140',\n",
       " '_i141',\n",
       " '_i142',\n",
       " '_i143',\n",
       " '_i144',\n",
       " '_i145',\n",
       " '_i146',\n",
       " '_i147',\n",
       " '_i148',\n",
       " '_i149',\n",
       " '_i15',\n",
       " '_i150',\n",
       " '_i151',\n",
       " '_i152',\n",
       " '_i153',\n",
       " '_i154',\n",
       " '_i155',\n",
       " '_i156',\n",
       " '_i157',\n",
       " '_i158',\n",
       " '_i159',\n",
       " '_i16',\n",
       " '_i160',\n",
       " '_i161',\n",
       " '_i162',\n",
       " '_i163',\n",
       " '_i164',\n",
       " '_i165',\n",
       " '_i166',\n",
       " '_i167',\n",
       " '_i168',\n",
       " '_i169',\n",
       " '_i17',\n",
       " '_i170',\n",
       " '_i171',\n",
       " '_i172',\n",
       " '_i173',\n",
       " '_i174',\n",
       " '_i175',\n",
       " '_i176',\n",
       " '_i177',\n",
       " '_i178',\n",
       " '_i179',\n",
       " '_i18',\n",
       " '_i180',\n",
       " '_i181',\n",
       " '_i182',\n",
       " '_i183',\n",
       " '_i184',\n",
       " '_i185',\n",
       " '_i186',\n",
       " '_i187',\n",
       " '_i188',\n",
       " '_i189',\n",
       " '_i19',\n",
       " '_i190',\n",
       " '_i191',\n",
       " '_i192',\n",
       " '_i193',\n",
       " '_i194',\n",
       " '_i195',\n",
       " '_i196',\n",
       " '_i197',\n",
       " '_i198',\n",
       " '_i199',\n",
       " '_i2',\n",
       " '_i20',\n",
       " '_i200',\n",
       " '_i201',\n",
       " '_i202',\n",
       " '_i203',\n",
       " '_i204',\n",
       " '_i205',\n",
       " '_i206',\n",
       " '_i207',\n",
       " '_i208',\n",
       " '_i209',\n",
       " '_i21',\n",
       " '_i210',\n",
       " '_i211',\n",
       " '_i212',\n",
       " '_i213',\n",
       " '_i214',\n",
       " '_i215',\n",
       " '_i216',\n",
       " '_i22',\n",
       " '_i23',\n",
       " '_i24',\n",
       " '_i25',\n",
       " '_i26',\n",
       " '_i27',\n",
       " '_i28',\n",
       " '_i29',\n",
       " '_i3',\n",
       " '_i30',\n",
       " '_i31',\n",
       " '_i32',\n",
       " '_i33',\n",
       " '_i34',\n",
       " '_i35',\n",
       " '_i36',\n",
       " '_i37',\n",
       " '_i38',\n",
       " '_i39',\n",
       " '_i4',\n",
       " '_i40',\n",
       " '_i41',\n",
       " '_i42',\n",
       " '_i43',\n",
       " '_i44',\n",
       " '_i45',\n",
       " '_i46',\n",
       " '_i47',\n",
       " '_i48',\n",
       " '_i49',\n",
       " '_i5',\n",
       " '_i50',\n",
       " '_i51',\n",
       " '_i52',\n",
       " '_i53',\n",
       " '_i54',\n",
       " '_i55',\n",
       " '_i56',\n",
       " '_i57',\n",
       " '_i58',\n",
       " '_i59',\n",
       " '_i6',\n",
       " '_i60',\n",
       " '_i61',\n",
       " '_i62',\n",
       " '_i63',\n",
       " '_i64',\n",
       " '_i65',\n",
       " '_i66',\n",
       " '_i67',\n",
       " '_i68',\n",
       " '_i69',\n",
       " '_i7',\n",
       " '_i70',\n",
       " '_i71',\n",
       " '_i72',\n",
       " '_i73',\n",
       " '_i74',\n",
       " '_i75',\n",
       " '_i76',\n",
       " '_i77',\n",
       " '_i78',\n",
       " '_i79',\n",
       " '_i8',\n",
       " '_i80',\n",
       " '_i81',\n",
       " '_i82',\n",
       " '_i83',\n",
       " '_i84',\n",
       " '_i85',\n",
       " '_i86',\n",
       " '_i87',\n",
       " '_i88',\n",
       " '_i89',\n",
       " '_i9',\n",
       " '_i90',\n",
       " '_i91',\n",
       " '_i92',\n",
       " '_i93',\n",
       " '_i94',\n",
       " '_i95',\n",
       " '_i96',\n",
       " '_i97',\n",
       " '_i98',\n",
       " '_i99',\n",
       " '_ih',\n",
       " '_ii',\n",
       " '_iii',\n",
       " '_oh',\n",
       " 'a',\n",
       " 'ascii_lowercase',\n",
       " 'b',\n",
       " 'com',\n",
       " 'exit',\n",
       " 'get_ipython',\n",
       " 'i',\n",
       " 'idx',\n",
       " 'iris',\n",
       " 'j',\n",
       " 'k',\n",
       " 'load_iris',\n",
       " 'lst',\n",
       " 'n',\n",
       " 'n_min',\n",
       " 'pd',\n",
       " 'quit',\n",
       " 's1',\n",
       " 's2',\n",
       " 's3',\n",
       " 's4',\n",
       " 's5',\n",
       " 's6',\n",
       " 's7',\n",
       " 'st',\n",
       " 'str',\n",
       " 'strs']"
      ]
     },
     "execution_count": 216,
     "metadata": {},
     "output_type": "execute_result"
    }
   ],
   "source": [
    "dir()"
   ]
  },
  {
   "cell_type": "code",
   "execution_count": 52,
   "metadata": {},
   "outputs": [
    {
     "name": "stdout",
     "output_type": "stream",
     "text": [
      "7 0\n",
      "[0, 1]\n"
     ]
    }
   ],
   "source": [
    "nums = [2, 7, 11, 15]\n",
    "target = 9\n",
    "def deduct():\n",
    "    dct = {}\n",
    "    for i in range(len(nums)):\n",
    "         if nums[i] in dct:\n",
    "            return [dct[nums[i]], i]\n",
    "         else:\n",
    "            dct[target - nums[i]] = i\n",
    "            print(target - nums[i], i)\n",
    "print(deduct())"
   ]
  },
  {
   "cell_type": "code",
   "execution_count": 54,
   "metadata": {},
   "outputs": [
    {
     "name": "stdout",
     "output_type": "stream",
     "text": [
      "{0: 10, 1: 10, 2: 10, 3: 10, 4: 10, 5: 10, 6: 10, 7: 10, 8: 10, 9: 10}\n"
     ]
    }
   ],
   "source": [
    "d = dict()\n",
    "\n",
    "for i in range(100):\n",
    "    key = i % 10\n",
    "    if key in d:\n",
    "        d[key] += 1\n",
    "    else:\n",
    "        d[key] = 1\n",
    "print(d)"
   ]
  },
  {
   "cell_type": "code",
   "execution_count": 55,
   "metadata": {},
   "outputs": [
    {
     "data": {
      "text/plain": [
       "2"
      ]
     },
     "execution_count": 55,
     "metadata": {},
     "output_type": "execute_result"
    }
   ],
   "source": [
    "len(\"aa\")"
   ]
  },
  {
   "cell_type": "code",
   "execution_count": 84,
   "metadata": {},
   "outputs": [
    {
     "data": {
      "text/plain": [
       "True"
      ]
     },
     "execution_count": 84,
     "metadata": {},
     "output_type": "execute_result"
    }
   ],
   "source": [
    "def dct(s):\n",
    "    dct = {\"(\":\")\", \"{\":\"}\", \"[\":\"]\"}\n",
    "    mark = []\n",
    "    if s[0] not in dct:\n",
    "        return False\n",
    "    for para in s:\n",
    "        if para in dct:\n",
    "            mark.append(para)\n",
    "        else:\n",
    "            if dct[mark.pop()] == para:\n",
    "                return True\n",
    "            \n",
    "    return len(mark) == 0\n",
    "    \n",
    "dct(\"(([]){})\")"
   ]
  },
  {
   "cell_type": "code",
   "execution_count": 56,
   "metadata": {},
   "outputs": [
    {
     "data": {
      "text/plain": [
       "1.0"
      ]
     },
     "execution_count": 56,
     "metadata": {},
     "output_type": "execute_result"
    }
   ],
   "source": [
    "2 / 2"
   ]
  },
  {
   "cell_type": "code",
   "execution_count": 88,
   "metadata": {},
   "outputs": [
    {
     "data": {
      "text/plain": [
       "False"
      ]
     },
     "execution_count": 88,
     "metadata": {},
     "output_type": "execute_result"
    }
   ],
   "source": [
    "def dct(s):    \n",
    "    dct = {\"(\":\")\", \"{\":\"}\", \"[\":\"]\"}\n",
    "    mark = []\n",
    "    if not s:\n",
    "        return True\n",
    "    if s[0] not in dct:\n",
    "        return False\n",
    "    if len(s) % 2 ==1:\n",
    "        return False\n",
    "    for para in s:\n",
    "        if para in dct:\n",
    "            mark.append(para)\n",
    "        else:\n",
    "            if dct[mark.pop()] == para:\n",
    "                return True\n",
    "            else:\n",
    "                return False\n",
    "\n",
    "    return len(mark) == 0\n",
    "dct(\"{)\")"
   ]
  },
  {
   "cell_type": "code",
   "execution_count": 89,
   "metadata": {},
   "outputs": [
    {
     "ename": "SyntaxError",
     "evalue": "'return' outside function (<ipython-input-89-a79b5ac0eb73>, line 4)",
     "output_type": "error",
     "traceback": [
      "\u001b[0;36m  File \u001b[0;32m\"<ipython-input-89-a79b5ac0eb73>\"\u001b[0;36m, line \u001b[0;32m4\u001b[0m\n\u001b[0;31m    return True\u001b[0m\n\u001b[0m    ^\u001b[0m\n\u001b[0;31mSyntaxError\u001b[0m\u001b[0;31m:\u001b[0m 'return' outside function\n"
     ]
    }
   ],
   "source": [
    "dct = {\"(\":\")\", \"{\":\"}\", \"[\":\"]\"}\n",
    "mark = []\n",
    "if not s:\n",
    "    return True\n",
    "if s[0] not in dct:\n",
    "    return False\n",
    "if len(s) % 2 ==1:\n",
    "    return False\n",
    "for para in s:\n",
    "    if para in dct:\n",
    "        mark.append(para)\n",
    "    else:\n",
    "        if dct[mark.pop()] == para:\n",
    "            next\n",
    "        else:\n",
    "            return False\n",
    "\n",
    "return len(mark) == 0"
   ]
  },
  {
   "cell_type": "code",
   "execution_count": 90,
   "metadata": {},
   "outputs": [
    {
     "data": {
      "text/plain": [
       "'ab'"
      ]
     },
     "execution_count": 90,
     "metadata": {},
     "output_type": "execute_result"
    }
   ],
   "source": [
    "a = \"abc\"\n",
    "a[:-1]"
   ]
  },
  {
   "cell_type": "code",
   "execution_count": 95,
   "metadata": {},
   "outputs": [
    {
     "data": {
      "text/plain": [
       "True"
      ]
     },
     "execution_count": 95,
     "metadata": {},
     "output_type": "execute_result"
    }
   ],
   "source": [
    "a = \"abc\"\n",
    "a.startswith(\"\")"
   ]
  },
  {
   "cell_type": "code",
   "execution_count": 96,
   "metadata": {},
   "outputs": [
    {
     "data": {
      "text/plain": [
       "5.333333333333333"
      ]
     },
     "execution_count": 96,
     "metadata": {},
     "output_type": "execute_result"
    }
   ],
   "source": [
    "a = lambda x, y: (x *b) / y \n",
    "b = 8\n",
    "a(2,3)"
   ]
  },
  {
   "cell_type": "code",
   "execution_count": 99,
   "metadata": {},
   "outputs": [
    {
     "name": "stdout",
     "output_type": "stream",
     "text": [
      "a\n"
     ]
    }
   ],
   "source": [
    "class a():\n",
    "    def __repr__(self):\n",
    "        return \"a\"\n",
    "    \n",
    "a = a()\n",
    "b = a\n",
    "del a\n",
    "print(b)"
   ]
  },
  {
   "cell_type": "code",
   "execution_count": 100,
   "metadata": {},
   "outputs": [
    {
     "data": {
      "text/plain": [
       "['a']"
      ]
     },
     "execution_count": 100,
     "metadata": {},
     "output_type": "execute_result"
    }
   ],
   "source": [
    "lst = [\"a\"]\n",
    "lst"
   ]
  },
  {
   "cell_type": "code",
   "execution_count": null,
   "metadata": {},
   "outputs": [],
   "source": [
    "nums = [1,1,2,2,3,3,4,4,4]\n",
    "def dup():\n",
    "    new = []\n",
    "    if len(nums) <= 1:\n",
    "        return len(nums)\n",
    "    else:\n",
    "        if nums[0] == nums[len(nums) - 1]:\n",
    "            return 1\n",
    "        else:\n",
    "            new.append(nums[0])\n",
    "            for i in range(len(nums) - 1):\n",
    "                if nums[i] != nums[i+1]:\n",
    "                    new.append(nums[i+1])\n",
    "                    i = 0\n",
    "                else:\n",
    "                    next\n",
    "    return new\n",
    "dup()"
   ]
  },
  {
   "cell_type": "code",
   "execution_count": null,
   "metadata": {},
   "outputs": [],
   "source": [
    "nums = [1,1,2,2,3,3,4,4,4]\n",
    "def dup():\n",
    "    i = 0\n",
    "    while i < len(nums)-1:\n",
    "        if nums[i] == nums[i+1]:\n",
    "            nums.pop(nums[i])\n",
    "        else:\n",
    "            i += 1\n",
    "    return len(nums)\n",
    "dup()"
   ]
  },
  {
   "cell_type": "code",
   "execution_count": 4,
   "metadata": {},
   "outputs": [
    {
     "data": {
      "text/plain": [
       "[0, 1, 3, 0, 4]"
      ]
     },
     "execution_count": 4,
     "metadata": {},
     "output_type": "execute_result"
    }
   ],
   "source": [
    "nums = [0,1,2,2,3,0,4,2]\n",
    "val = 2\n",
    "def rem():\n",
    "    while val in nums:\n",
    "        nums.remove(val)\n",
    "    return nums\n",
    "rem()\n",
    "#nums.remove([2, 3])"
   ]
  },
  {
   "cell_type": "code",
   "execution_count": 7,
   "metadata": {},
   "outputs": [
    {
     "data": {
      "text/plain": [
       "''"
      ]
     },
     "execution_count": 7,
     "metadata": {},
     "output_type": "execute_result"
    }
   ],
   "source": [
    "a = \"12345\"\n",
    "a[5:]"
   ]
  },
  {
   "cell_type": "code",
   "execution_count": null,
   "metadata": {},
   "outputs": [],
   "source": [
    "a = abs(x)\n",
    "b = int(str(a)[::-1])\n",
    "if b < 2**31-1:\n",
    "    if 0 <= x <= 2 ** 31 -1:\n",
    "        return b\n",
    "    elif - 2**31 < x < 0:\n",
    "        return -b\n",
    "else:\n",
    "    return 0"
   ]
  }
 ],
 "metadata": {
  "kernelspec": {
   "display_name": "tf2",
   "language": "python",
   "name": "tf2"
  },
  "language_info": {
   "codemirror_mode": {
    "name": "ipython",
    "version": 3
   },
   "file_extension": ".py",
   "mimetype": "text/x-python",
   "name": "python",
   "nbconvert_exporter": "python",
   "pygments_lexer": "ipython3",
   "version": "3.7.3"
  }
 },
 "nbformat": 4,
 "nbformat_minor": 2
}
