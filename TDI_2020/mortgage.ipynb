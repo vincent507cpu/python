{
 "cells": [
  {
   "cell_type": "code",
   "execution_count": 1,
   "metadata": {},
   "outputs": [
    {
     "name": "stderr",
     "output_type": "stream",
     "text": [
      "── \u001b[1mAttaching packages\u001b[22m ─────────────────────────────────────── tidyverse 1.2.1 ──\n",
      "\n",
      "\u001b[32m✔\u001b[39m \u001b[34mggplot2\u001b[39m 3.2.1     \u001b[32m✔\u001b[39m \u001b[34mpurrr  \u001b[39m 0.3.2\n",
      "\u001b[32m✔\u001b[39m \u001b[34mtibble \u001b[39m 2.1.3     \u001b[32m✔\u001b[39m \u001b[34mdplyr  \u001b[39m 0.8.3\n",
      "\u001b[32m✔\u001b[39m \u001b[34mtidyr  \u001b[39m 1.0.0     \u001b[32m✔\u001b[39m \u001b[34mstringr\u001b[39m 1.4.0\n",
      "\u001b[32m✔\u001b[39m \u001b[34mreadr  \u001b[39m 1.3.1     \u001b[32m✔\u001b[39m \u001b[34mforcats\u001b[39m 0.4.0\n",
      "\n",
      "── \u001b[1mConflicts\u001b[22m ────────────────────────────────────────── tidyverse_conflicts() ──\n",
      "\u001b[31m✖\u001b[39m \u001b[34mdplyr\u001b[39m::\u001b[32mfilter()\u001b[39m masks \u001b[34mstats\u001b[39m::filter()\n",
      "\u001b[31m✖\u001b[39m \u001b[34mdplyr\u001b[39m::\u001b[32mlag()\u001b[39m    masks \u001b[34mstats\u001b[39m::lag()\n",
      "\n"
     ]
    }
   ],
   "source": [
    "library(tidyverse)"
   ]
  },
  {
   "cell_type": "markdown",
   "metadata": {},
   "source": [
    "d2008a <- read_table('/Users/wenjiazhai/Downloads/SFNationalFileA/fhlmc_sf2008a_loans.txt', col_names = F)\n",
    "d2008b <- read_table('/Users/wenjiazhai/Downloads/SFNationalFileA/fnma_sf2008a_loans.txt', col_names = F)\n",
    "d2008 <- bind_rows(d2008a, d2008b) %>% mutate(year = 2008)"
   ]
  },
  {
   "cell_type": "markdown",
   "metadata": {},
   "source": [
    "d2009a <- read_table('/Users/wenjiazhai/Downloads/SFNationalFileA/fhlmc_sf2009a_loans.txt', col_names = F)\n",
    "d2009b <- read_table('/Users/wenjiazhai/Downloads/SFNationalFileA/fnma_sf2009a_loans.txt', col_names = F)\n",
    "d2009 <- bind_rows(d2009a, d2009b) %>% mutate(year = 2009)"
   ]
  },
  {
   "cell_type": "markdown",
   "metadata": {},
   "source": [
    "d2010a <- read_table('/Users/wenjiazhai/Downloads/SFNationalFileA/fhlmc_sf2010a_loans.txt', col_names = F)\n",
    "d2010b <- read_table('/Users/wenjiazhai/Downloads/SFNationalFileA/fnma_sf2010a_loans.txt', col_names = F)\n",
    "d2010 <- bind_rows(d2010a, d2010b) %>% mutate(year = 2010)"
   ]
  },
  {
   "cell_type": "markdown",
   "metadata": {},
   "source": [
    "d2011a <- read_table('/Users/wenjiazhai/Downloads/SFNationalFileA/fhlmc_sf2011a_loans.txt', col_names = F)\n",
    "d2011b <- read_table('/Users/wenjiazhai/Downloads/SFNationalFileA/fnma_sf2011a_loans.txt', col_names = F)\n",
    "d2011 <- bind_rows(d2011a, d2011b) %>% mutate(year = 2011)"
   ]
  },
  {
   "cell_type": "markdown",
   "metadata": {},
   "source": [
    "d2012a <- read_table('/Users/wenjiazhai/Downloads/SFNationalFileA/fhlmc_sf2012a_loans.txt', col_names = F)\n",
    "d2012b <- read_table('/Users/wenjiazhai/Downloads/SFNationalFileA/fnma_sf2012a_loans.txt', col_names = F)\n",
    "d2012 <- bind_rows(d2012a, d2012b) %>% mutate(year = 2012)"
   ]
  },
  {
   "cell_type": "markdown",
   "metadata": {},
   "source": [
    "d2013a <- read_table('/Users/wenjiazhai/Downloads/SFNationalFileA/fhlmc_sf2013a_loans.txt', col_names = F)\n",
    "d2013b <- read_table('/Users/wenjiazhai/Downloads/SFNationalFileA/fnma_sf2013a_loans.txt', col_names = F)\n",
    "d2013 <- bind_rows(d2013a, d2013b) %>% mutate(year = 2013)"
   ]
  },
  {
   "cell_type": "code",
   "execution_count": 2,
   "metadata": {},
   "outputs": [
    {
     "name": "stderr",
     "output_type": "stream",
     "text": [
      "Parsed with column specification:\n",
      "cols(\n",
      "  X1 = \u001b[32mcol_double()\u001b[39m,\n",
      "  X2 = \u001b[32mcol_double()\u001b[39m,\n",
      "  X3 = \u001b[32mcol_double()\u001b[39m,\n",
      "  X4 = \u001b[32mcol_double()\u001b[39m,\n",
      "  X5 = \u001b[32mcol_double()\u001b[39m,\n",
      "  X6 = \u001b[32mcol_double()\u001b[39m,\n",
      "  X7 = \u001b[32mcol_double()\u001b[39m,\n",
      "  X8 = \u001b[32mcol_double()\u001b[39m,\n",
      "  X9 = \u001b[32mcol_double()\u001b[39m,\n",
      "  X10 = \u001b[32mcol_double()\u001b[39m,\n",
      "  X11 = \u001b[32mcol_double()\u001b[39m,\n",
      "  X12 = \u001b[32mcol_double()\u001b[39m,\n",
      "  X13 = \u001b[32mcol_double()\u001b[39m,\n",
      "  X14 = \u001b[32mcol_double()\u001b[39m,\n",
      "  X15 = \u001b[32mcol_double()\u001b[39m\n",
      ")\n",
      "\n",
      "Parsed with column specification:\n",
      "cols(\n",
      "  X1 = \u001b[32mcol_double()\u001b[39m,\n",
      "  X2 = \u001b[32mcol_double()\u001b[39m,\n",
      "  X3 = \u001b[32mcol_double()\u001b[39m,\n",
      "  X4 = \u001b[32mcol_double()\u001b[39m,\n",
      "  X5 = \u001b[32mcol_double()\u001b[39m,\n",
      "  X6 = \u001b[32mcol_double()\u001b[39m,\n",
      "  X7 = \u001b[32mcol_double()\u001b[39m,\n",
      "  X8 = \u001b[32mcol_double()\u001b[39m,\n",
      "  X9 = \u001b[32mcol_double()\u001b[39m,\n",
      "  X10 = \u001b[32mcol_double()\u001b[39m,\n",
      "  X11 = \u001b[32mcol_double()\u001b[39m,\n",
      "  X12 = \u001b[32mcol_double()\u001b[39m,\n",
      "  X13 = \u001b[32mcol_double()\u001b[39m,\n",
      "  X14 = \u001b[32mcol_double()\u001b[39m,\n",
      "  X15 = \u001b[32mcol_double()\u001b[39m\n",
      ")\n",
      "\n"
     ]
    }
   ],
   "source": [
    "d2014a <- read_table('/Users/wenjiazhai/Downloads/SFNationalFileA/fhlmc_sf2014a_loans.txt', col_names = F)\n",
    "d2014b <- read_table('/Users/wenjiazhai/Downloads/SFNationalFileA/fnma_sf2014a_loans.txt', col_names = F)\n",
    "d2014 <- bind_rows(d2014a, d2014b) %>% mutate(year = 2014)"
   ]
  },
  {
   "cell_type": "code",
   "execution_count": 3,
   "metadata": {},
   "outputs": [
    {
     "name": "stderr",
     "output_type": "stream",
     "text": [
      "Parsed with column specification:\n",
      "cols(\n",
      "  X1 = \u001b[32mcol_double()\u001b[39m,\n",
      "  X2 = \u001b[32mcol_double()\u001b[39m,\n",
      "  X3 = \u001b[32mcol_double()\u001b[39m,\n",
      "  X4 = \u001b[32mcol_double()\u001b[39m,\n",
      "  X5 = \u001b[32mcol_double()\u001b[39m,\n",
      "  X6 = \u001b[32mcol_double()\u001b[39m,\n",
      "  X7 = \u001b[32mcol_double()\u001b[39m,\n",
      "  X8 = \u001b[32mcol_double()\u001b[39m,\n",
      "  X9 = \u001b[32mcol_double()\u001b[39m,\n",
      "  X10 = \u001b[32mcol_double()\u001b[39m,\n",
      "  X11 = \u001b[32mcol_double()\u001b[39m,\n",
      "  X12 = \u001b[32mcol_double()\u001b[39m,\n",
      "  X13 = \u001b[32mcol_double()\u001b[39m,\n",
      "  X14 = \u001b[32mcol_double()\u001b[39m,\n",
      "  X15 = \u001b[32mcol_double()\u001b[39m\n",
      ")\n",
      "\n",
      "Parsed with column specification:\n",
      "cols(\n",
      "  X1 = \u001b[32mcol_double()\u001b[39m,\n",
      "  X2 = \u001b[32mcol_double()\u001b[39m,\n",
      "  X3 = \u001b[32mcol_double()\u001b[39m,\n",
      "  X4 = \u001b[32mcol_double()\u001b[39m,\n",
      "  X5 = \u001b[32mcol_double()\u001b[39m,\n",
      "  X6 = \u001b[32mcol_double()\u001b[39m,\n",
      "  X7 = \u001b[32mcol_double()\u001b[39m,\n",
      "  X8 = \u001b[32mcol_double()\u001b[39m,\n",
      "  X9 = \u001b[32mcol_double()\u001b[39m,\n",
      "  X10 = \u001b[32mcol_double()\u001b[39m,\n",
      "  X11 = \u001b[32mcol_double()\u001b[39m,\n",
      "  X12 = \u001b[32mcol_double()\u001b[39m,\n",
      "  X13 = \u001b[32mcol_double()\u001b[39m,\n",
      "  X14 = \u001b[32mcol_double()\u001b[39m,\n",
      "  X15 = \u001b[32mcol_double()\u001b[39m\n",
      ")\n",
      "\n"
     ]
    }
   ],
   "source": [
    "d2015a <- read_table('/Users/wenjiazhai/Downloads/SFNationalFileA/fhlmc_sf2015a_loans.txt', col_names = F)\n",
    "d2015b <- read_table('/Users/wenjiazhai/Downloads/SFNationalFileA/fnma_sf2015a_loans.txt', col_names = F)\n",
    "d2015 <- bind_rows(d2015a, d2015b) %>% mutate(year = 2015)"
   ]
  },
  {
   "cell_type": "code",
   "execution_count": 4,
   "metadata": {},
   "outputs": [
    {
     "name": "stderr",
     "output_type": "stream",
     "text": [
      "Parsed with column specification:\n",
      "cols(\n",
      "  X1 = \u001b[32mcol_double()\u001b[39m,\n",
      "  X2 = \u001b[32mcol_double()\u001b[39m,\n",
      "  X3 = \u001b[32mcol_double()\u001b[39m,\n",
      "  X4 = \u001b[32mcol_double()\u001b[39m,\n",
      "  X5 = \u001b[32mcol_double()\u001b[39m,\n",
      "  X6 = \u001b[32mcol_double()\u001b[39m,\n",
      "  X7 = \u001b[32mcol_double()\u001b[39m,\n",
      "  X8 = \u001b[32mcol_double()\u001b[39m,\n",
      "  X9 = \u001b[32mcol_double()\u001b[39m,\n",
      "  X10 = \u001b[32mcol_double()\u001b[39m,\n",
      "  X11 = \u001b[32mcol_double()\u001b[39m,\n",
      "  X12 = \u001b[32mcol_double()\u001b[39m,\n",
      "  X13 = \u001b[32mcol_double()\u001b[39m,\n",
      "  X14 = \u001b[32mcol_double()\u001b[39m,\n",
      "  X15 = \u001b[32mcol_double()\u001b[39m\n",
      ")\n",
      "\n",
      "Parsed with column specification:\n",
      "cols(\n",
      "  X1 = \u001b[32mcol_double()\u001b[39m,\n",
      "  X2 = \u001b[32mcol_double()\u001b[39m,\n",
      "  X3 = \u001b[32mcol_double()\u001b[39m,\n",
      "  X4 = \u001b[32mcol_double()\u001b[39m,\n",
      "  X5 = \u001b[32mcol_double()\u001b[39m,\n",
      "  X6 = \u001b[32mcol_double()\u001b[39m,\n",
      "  X7 = \u001b[32mcol_double()\u001b[39m,\n",
      "  X8 = \u001b[32mcol_double()\u001b[39m,\n",
      "  X9 = \u001b[32mcol_double()\u001b[39m,\n",
      "  X10 = \u001b[32mcol_double()\u001b[39m,\n",
      "  X11 = \u001b[32mcol_double()\u001b[39m,\n",
      "  X12 = \u001b[32mcol_double()\u001b[39m,\n",
      "  X13 = \u001b[32mcol_double()\u001b[39m,\n",
      "  X14 = \u001b[32mcol_double()\u001b[39m,\n",
      "  X15 = \u001b[32mcol_double()\u001b[39m\n",
      ")\n",
      "\n"
     ]
    }
   ],
   "source": [
    "d2016a <- read_table('/Users/wenjiazhai/Downloads/SFNationalFileA/fhlmc_sf2016a_loans.txt', col_names = F)\n",
    "d2016b <- read_table('/Users/wenjiazhai/Downloads/SFNationalFileA/fnma_sf2016a_loans.txt', col_names = F)\n",
    "d2016 <- bind_rows(d2016a, d2016b) %>% mutate(year = 2016)"
   ]
  },
  {
   "cell_type": "code",
   "execution_count": 5,
   "metadata": {},
   "outputs": [
    {
     "name": "stderr",
     "output_type": "stream",
     "text": [
      "Parsed with column specification:\n",
      "cols(\n",
      "  X1 = \u001b[32mcol_double()\u001b[39m,\n",
      "  X2 = \u001b[32mcol_double()\u001b[39m,\n",
      "  X3 = \u001b[32mcol_double()\u001b[39m,\n",
      "  X4 = \u001b[32mcol_double()\u001b[39m,\n",
      "  X5 = \u001b[32mcol_double()\u001b[39m,\n",
      "  X6 = \u001b[32mcol_double()\u001b[39m,\n",
      "  X7 = \u001b[32mcol_double()\u001b[39m,\n",
      "  X8 = \u001b[32mcol_double()\u001b[39m,\n",
      "  X9 = \u001b[32mcol_double()\u001b[39m,\n",
      "  X10 = \u001b[32mcol_double()\u001b[39m,\n",
      "  X11 = \u001b[32mcol_double()\u001b[39m,\n",
      "  X12 = \u001b[32mcol_double()\u001b[39m,\n",
      "  X13 = \u001b[32mcol_double()\u001b[39m,\n",
      "  X14 = \u001b[32mcol_double()\u001b[39m,\n",
      "  X15 = \u001b[32mcol_double()\u001b[39m\n",
      ")\n",
      "\n",
      "Parsed with column specification:\n",
      "cols(\n",
      "  X1 = \u001b[32mcol_double()\u001b[39m,\n",
      "  X2 = \u001b[32mcol_double()\u001b[39m,\n",
      "  X3 = \u001b[32mcol_double()\u001b[39m,\n",
      "  X4 = \u001b[32mcol_double()\u001b[39m,\n",
      "  X5 = \u001b[32mcol_double()\u001b[39m,\n",
      "  X6 = \u001b[32mcol_double()\u001b[39m,\n",
      "  X7 = \u001b[32mcol_double()\u001b[39m,\n",
      "  X8 = \u001b[32mcol_double()\u001b[39m,\n",
      "  X9 = \u001b[32mcol_double()\u001b[39m,\n",
      "  X10 = \u001b[32mcol_double()\u001b[39m,\n",
      "  X11 = \u001b[32mcol_double()\u001b[39m,\n",
      "  X12 = \u001b[32mcol_double()\u001b[39m,\n",
      "  X13 = \u001b[32mcol_double()\u001b[39m,\n",
      "  X14 = \u001b[32mcol_double()\u001b[39m,\n",
      "  X15 = \u001b[32mcol_double()\u001b[39m\n",
      ")\n",
      "\n"
     ]
    }
   ],
   "source": [
    "d2017a <- read_table('/Users/wenjiazhai/Downloads/SFNationalFileA/fhlmc_sf2017a_loans.txt', col_names = F)\n",
    "d2017b <- read_table('/Users/wenjiazhai/Downloads/SFNationalFileA/fnma_sf2017a_loans.txt', col_names = F)\n",
    "d2017 <- bind_rows(d2017a, d2017b) %>% mutate(year = 2017)"
   ]
  },
  {
   "cell_type": "code",
   "execution_count": 6,
   "metadata": {},
   "outputs": [
    {
     "name": "stderr",
     "output_type": "stream",
     "text": [
      "Parsed with column specification:\n",
      "cols(\n",
      "  X1 = \u001b[32mcol_double()\u001b[39m,\n",
      "  X2 = \u001b[32mcol_double()\u001b[39m,\n",
      "  X3 = \u001b[32mcol_double()\u001b[39m,\n",
      "  X4 = \u001b[32mcol_double()\u001b[39m,\n",
      "  X5 = \u001b[32mcol_double()\u001b[39m,\n",
      "  X6 = \u001b[32mcol_double()\u001b[39m,\n",
      "  X7 = \u001b[32mcol_double()\u001b[39m,\n",
      "  X8 = \u001b[32mcol_double()\u001b[39m,\n",
      "  X9 = \u001b[32mcol_double()\u001b[39m,\n",
      "  X10 = \u001b[32mcol_double()\u001b[39m,\n",
      "  X11 = \u001b[32mcol_double()\u001b[39m,\n",
      "  X12 = \u001b[32mcol_double()\u001b[39m,\n",
      "  X13 = \u001b[32mcol_double()\u001b[39m,\n",
      "  X14 = \u001b[32mcol_double()\u001b[39m,\n",
      "  X15 = \u001b[32mcol_double()\u001b[39m\n",
      ")\n",
      "\n",
      "Parsed with column specification:\n",
      "cols(\n",
      "  X1 = \u001b[32mcol_double()\u001b[39m,\n",
      "  X2 = \u001b[32mcol_double()\u001b[39m,\n",
      "  X3 = \u001b[32mcol_double()\u001b[39m,\n",
      "  X4 = \u001b[32mcol_double()\u001b[39m,\n",
      "  X5 = \u001b[32mcol_double()\u001b[39m,\n",
      "  X6 = \u001b[32mcol_double()\u001b[39m,\n",
      "  X7 = \u001b[32mcol_double()\u001b[39m,\n",
      "  X8 = \u001b[32mcol_double()\u001b[39m,\n",
      "  X9 = \u001b[32mcol_double()\u001b[39m,\n",
      "  X10 = \u001b[32mcol_double()\u001b[39m,\n",
      "  X11 = \u001b[32mcol_double()\u001b[39m,\n",
      "  X12 = \u001b[32mcol_double()\u001b[39m,\n",
      "  X13 = \u001b[32mcol_double()\u001b[39m,\n",
      "  X14 = \u001b[32mcol_double()\u001b[39m,\n",
      "  X15 = \u001b[32mcol_double()\u001b[39m\n",
      ")\n",
      "\n"
     ]
    }
   ],
   "source": [
    "d2018a <- read_table('/Users/wenjiazhai/Downloads/SFNationalFileA/fhlmc_sf2018a_loans.txt', col_names = F)\n",
    "d2018b <- read_table('/Users/wenjiazhai/Downloads/SFNationalFileA/fnma_sf2018a_loans.txt', col_names = F)\n",
    "d2018 <- bind_rows(d2018a, d2018b) %>% mutate(year = 2018)"
   ]
  },
  {
   "cell_type": "code",
   "execution_count": 7,
   "metadata": {},
   "outputs": [
    {
     "data": {
      "text/html": [
       "16263084"
      ],
      "text/latex": [
       "16263084"
      ],
      "text/markdown": [
       "16263084"
      ],
      "text/plain": [
       "[1] 16263084"
      ]
     },
     "metadata": {},
     "output_type": "display_data"
    }
   ],
   "source": [
    "data <- bind_rows(d2014, d2015, d2016, d2017, d2018)\n",
    "nrow(data)"
   ]
  },
  {
   "cell_type": "code",
   "execution_count": 8,
   "metadata": {},
   "outputs": [],
   "source": [
    "data <- data %>%\n",
    "    mutate(X1 = case_when(X1 == 1 ~ 'Fannie Mae', X1 == 2 ~ 'Freddie Mac'),\n",
    "          X3 = case_when(X3 == 1 ~ 'metropolitan area', X3 == 0 ~ 'non-metropolitan area'),\n",
    "          X4 = case_when(X4 == 1 ~ '<=10%', X4 == 2 ~ '>=10, <30%', X4 == 3 ~ '>=30, <=100%', X4 == 9 ~ 'missing'),\n",
    "          X5 = case_when(X5 == 1 ~ '<=80%', X5 == 2 ~ '>80, <=120%', X5 == 3 ~ '>120%', X5 == 9 ~ 'missing'),\n",
    "          X6 = case_when(X6 == 1 ~ '<=50%', X6 == 2 ~ '>50, <=80%', X6 == 3 ~ '>80%', X6 == 9 ~ 'not applicable'),\n",
    "          X7 = case_when(X7 == 1 ~ '<=60%', X7 == 2 ~ '>60, <=80%', X7 == 3 ~ '>80, <=90%', \n",
    "                         X7 == 4 ~ '>90, <=95%', X7 == 5 ~ '>95%', X7 == 9 ~ 'missing'),\n",
    "          X8 = case_when(X8 == 1 ~ 'purchase', X8 == 8 ~ 'other', X8 == 9 ~ 'not applicable/not available'),\n",
    "          X9 = case_when(X9 == 1 ~ 'FHA/VA', X9 == 2 ~ 'RHS', X9 == 3 ~ 'HECM', \n",
    "                         X9 == 4 ~ 'no federal guarantee', X9 == 5 ~ ' Title 1 – FHA'),\n",
    "          X10 = case_when(X10 == 1 ~ 'American Indian or Alaska Native', X10 == 2 ~ 'Asian',\n",
    "                          X10 == 3 ~ 'Black or African American', X10 == 4 ~ 'Native Hawaiian or Other Pacific Islander',\n",
    "                          X10 == 5 ~ 'White', X10 == 6 ~ 'Two or more races', X10 == 7 ~ 'Hispanic or Latino',\n",
    "                          X10 == 9 ~ 'not available/not applicable'),\n",
    "          X11 = case_when(X11 == 1 ~ 'American Indian or Alaska Native', X11 == 2 ~ 'Asian',\n",
    "                          X11 == 3 ~ 'Black or African American', X11 == 4 ~ 'Native Hawaiian or Other Pacific Islander',\n",
    "                          X11 == 5 ~ 'White', X11 == 6 ~ 'Two or more races', X11 == 7 ~ 'Hispanic or Latino',\n",
    "                          X11 == 9 ~ 'not available/not applicable'),\n",
    "          X12 = case_when(X12 == 1 ~ 'male', X12 == 2 ~ 'female', X12 == 3 ~ 'info not provided', \n",
    "                          X12 == 4 ~ 'not applicable', X12 == 9 ~ 'missing'),\n",
    "          X13 = case_when(X13 == 1 ~ 'male', X13 == 2 ~ 'female', X13 == 3 ~ 'info not provided', X13 == 4 ~ 'not applicable', \n",
    "                          X13 == 5 ~ 'no co-borrower', X13 == 9 ~ 'missing'),\n",
    "          X15 = case_when(X15 == 1 ~ 'Low-income family in a low-income area',\n",
    "                          X15 == 2 ~ 'Very low-income family in a low-income area',\n",
    "                          X15 == 3 ~ 'Very low-income family not in a low-income area',\n",
    "                          X15 == 4 ~ 'other', X15 == 9 ~ 'not available', X15 == 0 ~ 'missing')) %>%\n",
    "    select('Enterprises' = X1, 'Metropolitan' = X3, 'Percent_Minority' = X4, 'Area_Income_Ratio' = X5,\n",
    "          'Borrower_Income_Ratio' = X6, 'LTV' = X7, 'Purpose_loan' = X8, 'Federal_Guarantee' = X9,\n",
    "          'Borrower_Race' = X10, 'Co-Borrower_Race' = X11, 'Borrower_Gender' = X12, 'Co-Borrower_Gender' = X13,\n",
    "          'Affordability_Category' = X15, year)"
   ]
  },
  {
   "cell_type": "code",
   "execution_count": 9,
   "metadata": {},
   "outputs": [],
   "source": [
    "data <- apply(data, 2, as.factor)"
   ]
  },
  {
   "cell_type": "code",
   "execution_count": 10,
   "metadata": {},
   "outputs": [
    {
     "data": {
      "text/plain": [
       "      Enterprises                     Metropolitan          Percent_Minority  \n",
       " Fannie Mae :9687609   metropolitan area    :14772078   <=10%       :3874607  \n",
       " Freddie Mac:6575475   non-metropolitan area: 1491006   >=10, <30%  :6613540  \n",
       "                                                        >=30, <=100%:5771671  \n",
       "                                                        missing     :   3266  \n",
       "                                                                              \n",
       "                                                                              \n",
       "                                                                              \n",
       "   Area_Income_Ratio      Borrower_Income_Ratio          LTV         \n",
       " <=80%      :2133581   <=50%         :  988512   <=60%     :2958896  \n",
       " >120%      :7074110   >50, <=80%    : 2791286   >60, <=80%:7822472  \n",
       " >80, <=120%:7045727   >80%          :12478354   >80, <=90%:1741768  \n",
       " missing    :   9666   not applicable:    4932   >90, <=95%:2854884  \n",
       "                                                 >95%      : 864152  \n",
       "                                                 missing   :  20912  \n",
       "                                                                     \n",
       "                       Purpose_loan                Federal_Guarantee   \n",
       " not applicable/not available:      5   FHA/VA              :    3181  \n",
       " other                       :7908787   no federal guarantee:16251611  \n",
       " purchase                    :8354292   RHS                 :    8292  \n",
       "                                                                       \n",
       "                                                                       \n",
       "                                                                       \n",
       "                                                                       \n",
       "                      Borrower_Race                          Co-Borrower_Race  \n",
       " White                       :11525255   not available/not applicable:9189863  \n",
       " not available/not applicable: 1681946   White                       :5789358  \n",
       " Hispanic or Latino          : 1276226   Hispanic or Latino          : 563068  \n",
       " Asian                       :  991867   Asian                       : 417292  \n",
       " Black or African American   :  539596   Black or African American   : 145327  \n",
       " Two or more races           :  159708   Two or more races           : 119287  \n",
       " (Other)                     :   88486   (Other)                     :  38889  \n",
       "          Borrower_Gender             Co-Borrower_Gender \n",
       " female           : 4847011   female           :5788347  \n",
       " info not provided: 1078101   info not provided: 566634  \n",
       " male             :10299964   male             :1555422  \n",
       " missing          :   37763   missing          :  18810  \n",
       " not applicable   :     245   no co-borrower   :3334692  \n",
       "                              not applicable   :4999179  \n",
       "                                                         \n",
       "                                     Affordability_Category   year        \n",
       " Low-income family in a low-income area         :  592687   2014:2756966  \n",
       " missing                                        :    4932   2015:3352791  \n",
       " other                                          :14676953   2016:3845568  \n",
       " Very low-income family in a low-income area    :  301764   2017:3354724  \n",
       " Very low-income family not in a low-income area:  686748   2018:2953035  \n",
       "                                                                          \n",
       "                                                                          "
      ]
     },
     "metadata": {},
     "output_type": "display_data"
    }
   ],
   "source": [
    "summary(data)"
   ]
  },
  {
   "cell_type": "code",
   "execution_count": null,
   "metadata": {},
   "outputs": [],
   "source": []
  }
 ],
 "metadata": {
  "kernelspec": {
   "display_name": "R",
   "language": "R",
   "name": "ir"
  },
  "language_info": {
   "codemirror_mode": "r",
   "file_extension": ".r",
   "mimetype": "text/x-r-source",
   "name": "R",
   "pygments_lexer": "r",
   "version": "3.6.1"
  }
 },
 "nbformat": 4,
 "nbformat_minor": 2
}
