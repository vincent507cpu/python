{
 "cells": [
  {
   "cell_type": "code",
   "execution_count": 1,
   "metadata": {},
   "outputs": [
    {
     "name": "stderr",
     "output_type": "stream",
     "text": [
      "── \u001b[1mAttaching packages\u001b[22m ─────────────────────────────────────── tidyverse 1.2.1 ──\n",
      "\n",
      "\u001b[32m✔\u001b[39m \u001b[34mggplot2\u001b[39m 3.2.1     \u001b[32m✔\u001b[39m \u001b[34mpurrr  \u001b[39m 0.3.2\n",
      "\u001b[32m✔\u001b[39m \u001b[34mtibble \u001b[39m 2.1.3     \u001b[32m✔\u001b[39m \u001b[34mdplyr  \u001b[39m 0.8.3\n",
      "\u001b[32m✔\u001b[39m \u001b[34mtidyr  \u001b[39m 1.0.0     \u001b[32m✔\u001b[39m \u001b[34mstringr\u001b[39m 1.4.0\n",
      "\u001b[32m✔\u001b[39m \u001b[34mreadr  \u001b[39m 1.3.1     \u001b[32m✔\u001b[39m \u001b[34mforcats\u001b[39m 0.4.0\n",
      "\n",
      "── \u001b[1mConflicts\u001b[22m ────────────────────────────────────────── tidyverse_conflicts() ──\n",
      "\u001b[31m✖\u001b[39m \u001b[34mdplyr\u001b[39m::\u001b[32mfilter()\u001b[39m masks \u001b[34mstats\u001b[39m::filter()\n",
      "\u001b[31m✖\u001b[39m \u001b[34mdplyr\u001b[39m::\u001b[32mlag()\u001b[39m    masks \u001b[34mstats\u001b[39m::lag()\n",
      "\n",
      "\n",
      "Attaching package: ‘lubridate’\n",
      "\n",
      "\n",
      "The following object is masked from ‘package:base’:\n",
      "\n",
      "    date\n",
      "\n",
      "\n"
     ]
    }
   ],
   "source": [
    "library(tidyverse)\n",
    "library(lubridate)\n",
    "options(digits = 22)"
   ]
  },
  {
   "cell_type": "code",
   "execution_count": 2,
   "metadata": {},
   "outputs": [
    {
     "name": "stderr",
     "output_type": "stream",
     "text": [
      "Parsed with column specification:\n",
      "cols(\n",
      "  `Report ID` = \u001b[32mcol_double()\u001b[39m,\n",
      "  `Arrest Date` = \u001b[31mcol_character()\u001b[39m,\n",
      "  Time = \u001b[31mcol_character()\u001b[39m,\n",
      "  `Area ID` = \u001b[31mcol_character()\u001b[39m,\n",
      "  `Area Name` = \u001b[31mcol_character()\u001b[39m,\n",
      "  `Reporting District` = \u001b[31mcol_character()\u001b[39m,\n",
      "  Age = \u001b[32mcol_double()\u001b[39m,\n",
      "  `Sex Code` = \u001b[31mcol_character()\u001b[39m,\n",
      "  `Descent Code` = \u001b[31mcol_character()\u001b[39m,\n",
      "  `Charge Group Code` = \u001b[31mcol_character()\u001b[39m,\n",
      "  `Charge Group Description` = \u001b[31mcol_character()\u001b[39m,\n",
      "  `Arrest Type Code` = \u001b[31mcol_character()\u001b[39m,\n",
      "  Charge = \u001b[31mcol_character()\u001b[39m,\n",
      "  `Charge Description` = \u001b[31mcol_character()\u001b[39m,\n",
      "  Address = \u001b[31mcol_character()\u001b[39m,\n",
      "  `Cross Street` = \u001b[31mcol_character()\u001b[39m,\n",
      "  Location = \u001b[31mcol_character()\u001b[39m\n",
      ")\n",
      "\n"
     ]
    },
    {
     "data": {
      "text/html": [
       "<table>\n",
       "<caption>A tibble: 6 × 17</caption>\n",
       "<thead>\n",
       "\t<tr><th scope=col>Report ID</th><th scope=col>Arrest Date</th><th scope=col>Time</th><th scope=col>Area ID</th><th scope=col>Area Name</th><th scope=col>Reporting District</th><th scope=col>Age</th><th scope=col>Sex Code</th><th scope=col>Descent Code</th><th scope=col>Charge Group Code</th><th scope=col>Charge Group Description</th><th scope=col>Arrest Type Code</th><th scope=col>Charge</th><th scope=col>Charge Description</th><th scope=col>Address</th><th scope=col>Cross Street</th><th scope=col>Location</th></tr>\n",
       "\t<tr><th scope=col>&lt;dbl&gt;</th><th scope=col>&lt;chr&gt;</th><th scope=col>&lt;chr&gt;</th><th scope=col>&lt;chr&gt;</th><th scope=col>&lt;chr&gt;</th><th scope=col>&lt;chr&gt;</th><th scope=col>&lt;dbl&gt;</th><th scope=col>&lt;chr&gt;</th><th scope=col>&lt;chr&gt;</th><th scope=col>&lt;chr&gt;</th><th scope=col>&lt;chr&gt;</th><th scope=col>&lt;chr&gt;</th><th scope=col>&lt;chr&gt;</th><th scope=col>&lt;chr&gt;</th><th scope=col>&lt;chr&gt;</th><th scope=col>&lt;chr&gt;</th><th scope=col>&lt;chr&gt;</th></tr>\n",
       "</thead>\n",
       "<tbody>\n",
       "\t<tr><td>  4248313</td><td>02/24/2015</td><td>1310</td><td>20</td><td>Olympic  </td><td>2022</td><td>37</td><td>M</td><td>H</td><td>05</td><td>Burglary</td><td>F</td><td>459PC    </td><td>BURGLARY   </td><td>5TH                                     </td><td>WILTON                         </td><td>(34.0653, -118.314) </td></tr>\n",
       "\t<tr><td>191811472</td><td>05/03/2019</td><td>1700</td><td>18</td><td>Southeast</td><td>1802</td><td>23</td><td>F</td><td>B</td><td>NA</td><td>NA      </td><td>M</td><td>653.22 PC</td><td>NA         </td><td>91ST                                    </td><td>FIGUEROA                       </td><td>(33.9543, -118.2827)</td></tr>\n",
       "\t<tr><td>  4254777</td><td>02/26/2015</td><td>2010</td><td>19</td><td>Mission  </td><td>1985</td><td>22</td><td>M</td><td>H</td><td>06</td><td>Larceny </td><td>M</td><td>459.5PC  </td><td>SHOPLIFTING</td><td>8300    VAN NUYS                     BL </td><td>NA                             </td><td>(34.2216, -118.4488)</td></tr>\n",
       "\t<tr><td>  5614161</td><td>04/29/2019</td><td>1040</td><td>08</td><td>West LA  </td><td>0842</td><td>41</td><td>M</td><td>H</td><td>03</td><td>Robbery </td><td>F</td><td>211PC    </td><td>ROBBERY    </td><td>11600    WILSHIRE                     BL</td><td>NA                             </td><td>(34.0508, -118.4592)</td></tr>\n",
       "\t<tr><td>  5615197</td><td>04/30/2019</td><td>0615</td><td>06</td><td>Hollywood</td><td>0663</td><td>27</td><td>M</td><td>O</td><td>05</td><td>Burglary</td><td>F</td><td>459PC    </td><td>BURGLARY   </td><td>LA BREA                                 </td><td>LEXINGTON                      </td><td>(34.0907, -118.3384)</td></tr>\n",
       "\t<tr><td>  5615701</td><td>04/30/2019</td><td>1100</td><td>09</td><td>Van Nuys </td><td>0901</td><td> 2</td><td>F</td><td>H</td><td>NA</td><td>NA      </td><td>D</td><td>300(B)WIC</td><td>NA         </td><td>RAYMER                                  </td><td>SEPULVEDA                    BL</td><td>(34.2149, -118.4674)</td></tr>\n",
       "</tbody>\n",
       "</table>\n"
      ],
      "text/latex": [
       "A tibble: 6 × 17\n",
       "\\begin{tabular}{r|lllllllllllllllll}\n",
       " Report ID & Arrest Date & Time & Area ID & Area Name & Reporting District & Age & Sex Code & Descent Code & Charge Group Code & Charge Group Description & Arrest Type Code & Charge & Charge Description & Address & Cross Street & Location\\\\\n",
       " <dbl> & <chr> & <chr> & <chr> & <chr> & <chr> & <dbl> & <chr> & <chr> & <chr> & <chr> & <chr> & <chr> & <chr> & <chr> & <chr> & <chr>\\\\\n",
       "\\hline\n",
       "\t   4248313 & 02/24/2015 & 1310 & 20 & Olympic   & 2022 & 37 & M & H & 05 & Burglary & F & 459PC     & BURGLARY    & 5TH                                      & WILTON                          & (34.0653, -118.314) \\\\\n",
       "\t 191811472 & 05/03/2019 & 1700 & 18 & Southeast & 1802 & 23 & F & B & NA & NA       & M & 653.22 PC & NA          & 91ST                                     & FIGUEROA                        & (33.9543, -118.2827)\\\\\n",
       "\t   4254777 & 02/26/2015 & 2010 & 19 & Mission   & 1985 & 22 & M & H & 06 & Larceny  & M & 459.5PC   & SHOPLIFTING & 8300    VAN NUYS                     BL  & NA                              & (34.2216, -118.4488)\\\\\n",
       "\t   5614161 & 04/29/2019 & 1040 & 08 & West LA   & 0842 & 41 & M & H & 03 & Robbery  & F & 211PC     & ROBBERY     & 11600    WILSHIRE                     BL & NA                              & (34.0508, -118.4592)\\\\\n",
       "\t   5615197 & 04/30/2019 & 0615 & 06 & Hollywood & 0663 & 27 & M & O & 05 & Burglary & F & 459PC     & BURGLARY    & LA BREA                                  & LEXINGTON                       & (34.0907, -118.3384)\\\\\n",
       "\t   5615701 & 04/30/2019 & 1100 & 09 & Van Nuys  & 0901 &  2 & F & H & NA & NA       & D & 300(B)WIC & NA          & RAYMER                                   & SEPULVEDA                    BL & (34.2149, -118.4674)\\\\\n",
       "\\end{tabular}\n"
      ],
      "text/markdown": [
       "\n",
       "A tibble: 6 × 17\n",
       "\n",
       "| Report ID &lt;dbl&gt; | Arrest Date &lt;chr&gt; | Time &lt;chr&gt; | Area ID &lt;chr&gt; | Area Name &lt;chr&gt; | Reporting District &lt;chr&gt; | Age &lt;dbl&gt; | Sex Code &lt;chr&gt; | Descent Code &lt;chr&gt; | Charge Group Code &lt;chr&gt; | Charge Group Description &lt;chr&gt; | Arrest Type Code &lt;chr&gt; | Charge &lt;chr&gt; | Charge Description &lt;chr&gt; | Address &lt;chr&gt; | Cross Street &lt;chr&gt; | Location &lt;chr&gt; |\n",
       "|---|---|---|---|---|---|---|---|---|---|---|---|---|---|---|---|---|\n",
       "|   4248313 | 02/24/2015 | 1310 | 20 | Olympic   | 2022 | 37 | M | H | 05 | Burglary | F | 459PC     | BURGLARY    | 5TH                                      | WILTON                          | (34.0653, -118.314)  |\n",
       "| 191811472 | 05/03/2019 | 1700 | 18 | Southeast | 1802 | 23 | F | B | NA | NA       | M | 653.22 PC | NA          | 91ST                                     | FIGUEROA                        | (33.9543, -118.2827) |\n",
       "|   4254777 | 02/26/2015 | 2010 | 19 | Mission   | 1985 | 22 | M | H | 06 | Larceny  | M | 459.5PC   | SHOPLIFTING | 8300    VAN NUYS                     BL  | NA                              | (34.2216, -118.4488) |\n",
       "|   5614161 | 04/29/2019 | 1040 | 08 | West LA   | 0842 | 41 | M | H | 03 | Robbery  | F | 211PC     | ROBBERY     | 11600    WILSHIRE                     BL | NA                              | (34.0508, -118.4592) |\n",
       "|   5615197 | 04/30/2019 | 0615 | 06 | Hollywood | 0663 | 27 | M | O | 05 | Burglary | F | 459PC     | BURGLARY    | LA BREA                                  | LEXINGTON                       | (34.0907, -118.3384) |\n",
       "|   5615701 | 04/30/2019 | 1100 | 09 | Van Nuys  | 0901 |  2 | F | H | NA | NA       | D | 300(B)WIC | NA          | RAYMER                                   | SEPULVEDA                    BL | (34.2149, -118.4674) |\n",
       "\n"
      ],
      "text/plain": [
       "  Report ID Arrest Date Time Area ID Area Name Reporting District Age Sex Code\n",
       "1   4248313 02/24/2015  1310 20      Olympic   2022               37  M       \n",
       "2 191811472 05/03/2019  1700 18      Southeast 1802               23  F       \n",
       "3   4254777 02/26/2015  2010 19      Mission   1985               22  M       \n",
       "4   5614161 04/29/2019  1040 08      West LA   0842               41  M       \n",
       "5   5615197 04/30/2019  0615 06      Hollywood 0663               27  M       \n",
       "6   5615701 04/30/2019  1100 09      Van Nuys  0901                2  F       \n",
       "  Descent Code Charge Group Code Charge Group Description Arrest Type Code\n",
       "1 H            05                Burglary                 F               \n",
       "2 B            NA                NA                       M               \n",
       "3 H            06                Larceny                  M               \n",
       "4 H            03                Robbery                  F               \n",
       "5 O            05                Burglary                 F               \n",
       "6 H            NA                NA                       D               \n",
       "  Charge    Charge Description Address                                 \n",
       "1 459PC     BURGLARY           5TH                                     \n",
       "2 653.22 PC NA                 91ST                                    \n",
       "3 459.5PC   SHOPLIFTING        8300    VAN NUYS                     BL \n",
       "4 211PC     ROBBERY            11600    WILSHIRE                     BL\n",
       "5 459PC     BURGLARY           LA BREA                                 \n",
       "6 300(B)WIC NA                 RAYMER                                  \n",
       "  Cross Street                    Location            \n",
       "1 WILTON                          (34.0653, -118.314) \n",
       "2 FIGUEROA                        (33.9543, -118.2827)\n",
       "3 NA                              (34.2216, -118.4488)\n",
       "4 NA                              (34.0508, -118.4592)\n",
       "5 LEXINGTON                       (34.0907, -118.3384)\n",
       "6 SEPULVEDA                    BL (34.2149, -118.4674)"
      ]
     },
     "metadata": {},
     "output_type": "display_data"
    }
   ],
   "source": [
    "crime = read_csv('/Users/wenjiazhai/Documents/GitHub/python/TDI_2020/Arrest_Data_from_2010_to_Present.csv')\n",
    "head(crime)"
   ]
  },
  {
   "cell_type": "markdown",
   "metadata": {},
   "source": [
    "# - How many bookings of arrestees were made in 2018?"
   ]
  },
  {
   "cell_type": "code",
   "execution_count": 3,
   "metadata": {},
   "outputs": [
    {
     "data": {
      "text/html": [
       "104277"
      ],
      "text/latex": [
       "104277"
      ],
      "text/markdown": [
       "104277"
      ],
      "text/plain": [
       "[1] 104277"
      ]
     },
     "metadata": {},
     "output_type": "display_data"
    }
   ],
   "source": [
    "crime$`Arrest Date` <- as.Date(crime$`Arrest Date`, format='%m/%d/%Y')\n",
    "\n",
    "crime_2018 <- crime[crime$`Arrest Date` >= as.Date('01/01/2018', format='%m/%d/%Y') & crime$`Arrest Date` <= as.Date('12/31/2018', format='%m/%d/%Y'),]\n",
    "\n",
    "nrow(crime_2018)"
   ]
  },
  {
   "cell_type": "markdown",
   "metadata": {},
   "source": [
    "# - How many bookings of arrestees were made in the area with the most arrests in 2018?"
   ]
  },
  {
   "cell_type": "code",
   "execution_count": 4,
   "metadata": {},
   "outputs": [
    {
     "data": {
      "text/html": [
       "10951"
      ],
      "text/latex": [
       "10951"
      ],
      "text/markdown": [
       "10951"
      ],
      "text/plain": [
       "[1] 10951"
      ]
     },
     "metadata": {},
     "output_type": "display_data"
    }
   ],
   "source": [
    "arrests <- crime_2018 %>%\n",
    "    group_by(`Area Name`) %>%\n",
    "    count() %>%\n",
    "    arrange(desc(n))\n",
    "\n",
    "arrests$n[1]"
   ]
  },
  {
   "cell_type": "markdown",
   "metadata": {},
   "source": [
    "# - What is the 95% quantile of the age of the arrestee in 2018? Only consider the following charge groups for your analysis: Vehicle Theft, Robbery, Burglary, Receive Stolen Property."
   ]
  },
  {
   "cell_type": "code",
   "execution_count": 5,
   "metadata": {},
   "outputs": [
    {
     "data": {
      "text/html": [
       "<strong>95%:</strong> 52"
      ],
      "text/latex": [
       "\\textbf{95\\textbackslash{}\\%:} 52"
      ],
      "text/markdown": [
       "**95%:** 52"
      ],
      "text/plain": [
       "95% \n",
       " 52 "
      ]
     },
     "metadata": {},
     "output_type": "display_data"
    }
   ],
   "source": [
    "crime_specific <- crime_2018 %>%\n",
    "    filter(`Charge Group Description` %in% c('Vehicle Theft', 'Robbery', 'Burglary', 'Receive Stolen Property'))\n",
    "\n",
    "quantile(crime_specific$Age, 0.95)"
   ]
  },
  {
   "cell_type": "markdown",
   "metadata": {},
   "source": [
    "# - There are differences between the average age of an arrestee for the various charge groups. Are these differences statistically significant? For this question, calculate the Z-score of the average age for each charge group. Report the largest absolute value among the calculated Z-scores.\n",
    "\n",
    "# Only consider data for 2018. Do not consider \"Pre-Delinquency\" and \"Non-Criminal Detention\" as these charge groups are reserved for minors. Exclude any arrests where the charge group description is not known."
   ]
  },
  {
   "cell_type": "code",
   "execution_count": 6,
   "metadata": {},
   "outputs": [
    {
     "data": {
      "text/html": [
       "7.7228348791476e-20"
      ],
      "text/latex": [
       "7.7228348791476e-20"
      ],
      "text/markdown": [
       "7.7228348791476e-20"
      ],
      "text/plain": [
       "[1] 7.72283487914759568357e-20"
      ]
     },
     "metadata": {},
     "output_type": "display_data"
    }
   ],
   "source": [
    "avg_age <-  crime_2018 %>%\n",
    "    group_by(`Charge Group Description`) %>%\n",
    "    summarise(avg_age = mean(Age))\n",
    "\n",
    "avg = mean(avg_age$avg_age)\n",
    "sd = sd(avg_age$avg_age)\n",
    "n = length(avg_age$avg_age)\n",
    "\n",
    "t <- (mean(avg_age$avg_age) - 0.7)/(sd(avg_age$avg_age) / sqrt(length(avg_age$avg_age)))\n",
    "2*pt(-abs(t),df=length(avg_age$avg_age)-1)"
   ]
  },
  {
   "cell_type": "markdown",
   "metadata": {},
   "source": [
    "### The p-value is smaller than 0.05, so the difference is significant."
   ]
  },
  {
   "cell_type": "code",
   "execution_count": 7,
   "metadata": {},
   "outputs": [
    {
     "data": {
      "text/html": [
       "3.31985746103726"
      ],
      "text/latex": [
       "3.31985746103726"
      ],
      "text/markdown": [
       "3.31985746103726"
      ],
      "text/plain": [
       "[1] 3.319857461037262424952"
      ]
     },
     "metadata": {},
     "output_type": "display_data"
    }
   ],
   "source": [
    "max(abs(scale(avg_age$avg_age)))"
   ]
  },
  {
   "cell_type": "markdown",
   "metadata": {},
   "source": [
    "# - Felony arrest incidents have been dropping over the years. Using a trend line (linear estimation) for the data from 2010 and 2018 (inclusive), what is the projected number of felony arrests in 2019?"
   ]
  },
  {
   "cell_type": "code",
   "execution_count": 8,
   "metadata": {},
   "outputs": [
    {
     "data": {
      "text/html": [
       "0"
      ],
      "text/latex": [
       "0"
      ],
      "text/markdown": [
       "0"
      ],
      "text/plain": [
       "[1] 0"
      ]
     },
     "metadata": {},
     "output_type": "display_data"
    },
    {
     "data": {
      "text/html": [
       "8"
      ],
      "text/latex": [
       "8"
      ],
      "text/markdown": [
       "8"
      ],
      "text/plain": [
       "[1] 8"
      ]
     },
     "metadata": {},
     "output_type": "display_data"
    }
   ],
   "source": [
    "sum(grepl('Felony', unique(crime_2018$`Charge Group Description`), ignore.case = TRUE))\n",
    "sum(grepl('Felony', unique(crime_2018$`Charge Description`), ignore.case = TRUE))"
   ]
  },
  {
   "cell_type": "code",
   "execution_count": 9,
   "metadata": {},
   "outputs": [
    {
     "data": {
      "text/plain": [
       "\n",
       "Call:\n",
       "lm(formula = n ~ year, data = felony)\n",
       "\n",
       "Coefficients:\n",
       "            (Intercept)                     year  \n",
       "862728.3999999999068677    -427.4333333333332803  \n"
      ]
     },
     "metadata": {},
     "output_type": "display_data"
    }
   ],
   "source": [
    "felony <- crime %>%\n",
    "    mutate(year = year(`Arrest Date`)) %>%\n",
    "    filter(year %in% c(2010:2018), grepl('Felony', `Charge Description`, ignore.case = TRUE)) %>%\n",
    "    group_by(year) %>%\n",
    "    summarise(n = n())\n",
    "\n",
    "lm(n ~ year, felony)"
   ]
  },
  {
   "cell_type": "code",
   "execution_count": 10,
   "metadata": {},
   "outputs": [
    {
     "data": {
      "text/html": [
       "-192"
      ],
      "text/latex": [
       "-192"
      ],
      "text/markdown": [
       "-192"
      ],
      "text/plain": [
       "[1] -192"
      ]
     },
     "metadata": {},
     "output_type": "display_data"
    }
   ],
   "source": [
    "round(862728.4 + (-427.4) * 2019)"
   ]
  },
  {
   "cell_type": "markdown",
   "metadata": {},
   "source": [
    "# - Some types of arrest incidents in certain areas occur at a highly disproportionate rate compared to their frequency city-wide. For example, let's say that the rate of larceny arrests (charge group code 6) is 1% in Devonshire (area ID 17). This rate may appear low but what if larceny arrests constitute 0.1 % city-wide? The ratio between these two probabilities is 10 and we can say that larceny occurs unusually often in Devonshire (Note, these numbers were made up for illustration purposes). Calculate this ratio for all charge group code and area ID pairs. You can view this ratio as the ratio of the conditional probability of an arrest incident of a charge group code given that it occurred in an area ID to the unconditional probability of the arrest incident of a charge group. Report the average of the top 5 of the calculated ratio.\n",
    "\n",
    "# Consider all records prior to January 1, 2019. Some arrest incidents don't have a charge group code. These records should not be considered in your analysis. Arrest incidents for charge group code 99 should not be considered in your analysis."
   ]
  },
  {
   "cell_type": "code",
   "execution_count": 11,
   "metadata": {},
   "outputs": [
    {
     "data": {
      "text/html": [
       "0.247909226335412"
      ],
      "text/latex": [
       "0.247909226335412"
      ],
      "text/markdown": [
       "0.247909226335412"
      ],
      "text/plain": [
       "[1] 0.2479092263354117364749"
      ]
     },
     "metadata": {},
     "output_type": "display_data"
    }
   ],
   "source": [
    "crime_per_area <- crime %>%\n",
    "    mutate(year = year(`Arrest Date`)) %>%\n",
    "    filter(year < 2019, !(`Charge Group Code` %in% c(99, NA))) %>%\n",
    "    group_by(`Area ID`, `Charge Group Code`) %>%\n",
    "    summarise(n = n()) %>%\n",
    "    pivot_wider(names_from = `Charge Group Code`, values_from = n, names_prefix = 'code_') %>%\n",
    "    ungroup() %>%\n",
    "    select(-`Area ID`)\n",
    "\n",
    "\n",
    "prop_crime_rate <- prop.table(as.matrix(crime_per_area), 2)\n",
    "mean(sort(apply(prop_crime_rate, 1, max), decreasing=TRUE)[0:5])"
   ]
  },
  {
   "cell_type": "markdown",
   "metadata": {},
   "source": [
    "# - How many arrest incidents occurred within 2 km from the Bradbury Building in 2018? Use (34.050536, -118.247861) for the coordinates of the Bradbury Building . For simplicity, please use the spherical Earth projected to a plane equation for calculating distances. Use the radius of the Earth as 6371 km. Note, some arrest records are missing location data and the location is listed as (0, 0). These records should not factor in your calculation."
   ]
  },
  {
   "cell_type": "code",
   "execution_count": 12,
   "metadata": {},
   "outputs": [
    {
     "data": {
      "text/html": [
       "<table>\n",
       "<caption>A tibble: 6 × 19</caption>\n",
       "<thead>\n",
       "\t<tr><th scope=col>Report ID</th><th scope=col>Arrest Date</th><th scope=col>Time</th><th scope=col>Area ID</th><th scope=col>Area Name</th><th scope=col>Reporting District</th><th scope=col>Age</th><th scope=col>Sex Code</th><th scope=col>Descent Code</th><th scope=col>Charge Group Code</th><th scope=col>Charge Group Description</th><th scope=col>Arrest Type Code</th><th scope=col>Charge</th><th scope=col>Charge Description</th><th scope=col>Address</th><th scope=col>Cross Street</th><th scope=col>Lat</th><th scope=col>Lon</th><th scope=col>year</th></tr>\n",
       "\t<tr><th scope=col>&lt;dbl&gt;</th><th scope=col>&lt;date&gt;</th><th scope=col>&lt;chr&gt;</th><th scope=col>&lt;chr&gt;</th><th scope=col>&lt;chr&gt;</th><th scope=col>&lt;chr&gt;</th><th scope=col>&lt;dbl&gt;</th><th scope=col>&lt;chr&gt;</th><th scope=col>&lt;chr&gt;</th><th scope=col>&lt;chr&gt;</th><th scope=col>&lt;chr&gt;</th><th scope=col>&lt;chr&gt;</th><th scope=col>&lt;chr&gt;</th><th scope=col>&lt;chr&gt;</th><th scope=col>&lt;chr&gt;</th><th scope=col>&lt;chr&gt;</th><th scope=col>&lt;dbl&gt;</th><th scope=col>&lt;dbl&gt;</th><th scope=col>&lt;dbl&gt;</th></tr>\n",
       "</thead>\n",
       "<tbody>\n",
       "\t<tr><td>5213460</td><td>2018-01-24</td><td>1930</td><td>06</td><td>Hollywood</td><td>0668</td><td>29</td><td>M</td><td>H</td><td>10</td><td>Fraud/Embezzlement </td><td>F</td><td>530.5(A)PC </td><td>GET CREDIT/ETC OTHER'S ID                </td><td>ST ANDREWS                              </td><td>FOUNTAIN</td><td>34.09490000000000264890</td><td>-118.3109000000000037289</td><td>2018</td></tr>\n",
       "\t<tr><td>5257944</td><td>2018-03-15</td><td>0310</td><td>07</td><td>Wilshire </td><td>0743</td><td>33</td><td>F</td><td>O</td><td>01</td><td><span style=white-space:pre-wrap>Homicide           </span></td><td>F</td><td>191.5(B)PC </td><td>VEH MANSLAUGHTR/OPER VESSEL DUI &amp; DUR FEL</td><td><span style=white-space:pre-wrap>OLYMPIC                                 </span></td><td>MASSELIN</td><td>34.05740000000000122782</td><td>-118.3546999999999940201</td><td>2018</td></tr>\n",
       "\t<tr><td>5328813</td><td>2018-06-01</td><td>1800</td><td>03</td><td>Southwest</td><td>0356</td><td>44</td><td>F</td><td>B</td><td>16</td><td>Narcotic Drug Laws </td><td>F</td><td>11379(A)HS </td><td>TRANSPORT/SELL CONTROLLED SUBSTANCE      </td><td>1600 W  36TH                         PL </td><td>NA      </td><td>34.02190000000000225100</td><td>-118.3061000000000007049</td><td>2018</td></tr>\n",
       "\t<tr><td>5336331</td><td>2018-06-10</td><td>0200</td><td>13</td><td>Newton   </td><td>1364</td><td>23</td><td>M</td><td>H</td><td>12</td><td>Weapon (carry/poss)</td><td>F</td><td>25400(A)2PC</td><td>CARRYING CONCEALED WEAPON UPON PERSON    </td><td>1200 E  50TH                         ST </td><td>NA      </td><td>33.99799999999999755573</td><td>-118.2543000000000006366</td><td>2018</td></tr>\n",
       "\t<tr><td>5360731</td><td>2018-07-07</td><td>2330</td><td>18</td><td>Southeast</td><td>1832</td><td>32</td><td>M</td><td>B</td><td>12</td><td>Weapon (carry/poss)</td><td>F</td><td>29800(A)1PC</td><td>POSS F/ARM BY CONVICTED FELON/ADDICT/ETC </td><td>10700 S  MAIN                         ST</td><td>NA      </td><td>33.93919999999999959073</td><td>-118.2738999999999975898</td><td>2018</td></tr>\n",
       "\t<tr><td>5404690</td><td>2018-08-25</td><td>1850</td><td>18</td><td>Southeast</td><td>1832</td><td>39</td><td>M</td><td>B</td><td>12</td><td>Weapon (carry/poss)</td><td>F</td><td>29800(A)1PC</td><td>POSS F/ARM BY CONVICTED FELON/ADDICT/ETC </td><td>10600 S  MAIN                         ST</td><td>NA      </td><td>33.94019999999999726015</td><td>-118.2738999999999975898</td><td>2018</td></tr>\n",
       "</tbody>\n",
       "</table>\n"
      ],
      "text/latex": [
       "A tibble: 6 × 19\n",
       "\\begin{tabular}{r|lllllllllllllllllll}\n",
       " Report ID & Arrest Date & Time & Area ID & Area Name & Reporting District & Age & Sex Code & Descent Code & Charge Group Code & Charge Group Description & Arrest Type Code & Charge & Charge Description & Address & Cross Street & Lat & Lon & year\\\\\n",
       " <dbl> & <date> & <chr> & <chr> & <chr> & <chr> & <dbl> & <chr> & <chr> & <chr> & <chr> & <chr> & <chr> & <chr> & <chr> & <chr> & <dbl> & <dbl> & <dbl>\\\\\n",
       "\\hline\n",
       "\t 5213460 & 2018-01-24 & 1930 & 06 & Hollywood & 0668 & 29 & M & H & 10 & Fraud/Embezzlement  & F & 530.5(A)PC  & GET CREDIT/ETC OTHER'S ID                 & ST ANDREWS                               & FOUNTAIN & 34.09490000000000264890 & -118.3109000000000037289 & 2018\\\\\n",
       "\t 5257944 & 2018-03-15 & 0310 & 07 & Wilshire  & 0743 & 33 & F & O & 01 & Homicide            & F & 191.5(B)PC  & VEH MANSLAUGHTR/OPER VESSEL DUI \\& DUR FEL & OLYMPIC                                  & MASSELIN & 34.05740000000000122782 & -118.3546999999999940201 & 2018\\\\\n",
       "\t 5328813 & 2018-06-01 & 1800 & 03 & Southwest & 0356 & 44 & F & B & 16 & Narcotic Drug Laws  & F & 11379(A)HS  & TRANSPORT/SELL CONTROLLED SUBSTANCE       & 1600 W  36TH                         PL  & NA       & 34.02190000000000225100 & -118.3061000000000007049 & 2018\\\\\n",
       "\t 5336331 & 2018-06-10 & 0200 & 13 & Newton    & 1364 & 23 & M & H & 12 & Weapon (carry/poss) & F & 25400(A)2PC & CARRYING CONCEALED WEAPON UPON PERSON     & 1200 E  50TH                         ST  & NA       & 33.99799999999999755573 & -118.2543000000000006366 & 2018\\\\\n",
       "\t 5360731 & 2018-07-07 & 2330 & 18 & Southeast & 1832 & 32 & M & B & 12 & Weapon (carry/poss) & F & 29800(A)1PC & POSS F/ARM BY CONVICTED FELON/ADDICT/ETC  & 10700 S  MAIN                         ST & NA       & 33.93919999999999959073 & -118.2738999999999975898 & 2018\\\\\n",
       "\t 5404690 & 2018-08-25 & 1850 & 18 & Southeast & 1832 & 39 & M & B & 12 & Weapon (carry/poss) & F & 29800(A)1PC & POSS F/ARM BY CONVICTED FELON/ADDICT/ETC  & 10600 S  MAIN                         ST & NA       & 33.94019999999999726015 & -118.2738999999999975898 & 2018\\\\\n",
       "\\end{tabular}\n"
      ],
      "text/markdown": [
       "\n",
       "A tibble: 6 × 19\n",
       "\n",
       "| Report ID &lt;dbl&gt; | Arrest Date &lt;date&gt; | Time &lt;chr&gt; | Area ID &lt;chr&gt; | Area Name &lt;chr&gt; | Reporting District &lt;chr&gt; | Age &lt;dbl&gt; | Sex Code &lt;chr&gt; | Descent Code &lt;chr&gt; | Charge Group Code &lt;chr&gt; | Charge Group Description &lt;chr&gt; | Arrest Type Code &lt;chr&gt; | Charge &lt;chr&gt; | Charge Description &lt;chr&gt; | Address &lt;chr&gt; | Cross Street &lt;chr&gt; | Lat &lt;dbl&gt; | Lon &lt;dbl&gt; | year &lt;dbl&gt; |\n",
       "|---|---|---|---|---|---|---|---|---|---|---|---|---|---|---|---|---|---|---|\n",
       "| 5213460 | 2018-01-24 | 1930 | 06 | Hollywood | 0668 | 29 | M | H | 10 | Fraud/Embezzlement  | F | 530.5(A)PC  | GET CREDIT/ETC OTHER'S ID                 | ST ANDREWS                               | FOUNTAIN | 34.09490000000000264890 | -118.3109000000000037289 | 2018 |\n",
       "| 5257944 | 2018-03-15 | 0310 | 07 | Wilshire  | 0743 | 33 | F | O | 01 | Homicide            | F | 191.5(B)PC  | VEH MANSLAUGHTR/OPER VESSEL DUI &amp; DUR FEL | OLYMPIC                                  | MASSELIN | 34.05740000000000122782 | -118.3546999999999940201 | 2018 |\n",
       "| 5328813 | 2018-06-01 | 1800 | 03 | Southwest | 0356 | 44 | F | B | 16 | Narcotic Drug Laws  | F | 11379(A)HS  | TRANSPORT/SELL CONTROLLED SUBSTANCE       | 1600 W  36TH                         PL  | NA       | 34.02190000000000225100 | -118.3061000000000007049 | 2018 |\n",
       "| 5336331 | 2018-06-10 | 0200 | 13 | Newton    | 1364 | 23 | M | H | 12 | Weapon (carry/poss) | F | 25400(A)2PC | CARRYING CONCEALED WEAPON UPON PERSON     | 1200 E  50TH                         ST  | NA       | 33.99799999999999755573 | -118.2543000000000006366 | 2018 |\n",
       "| 5360731 | 2018-07-07 | 2330 | 18 | Southeast | 1832 | 32 | M | B | 12 | Weapon (carry/poss) | F | 29800(A)1PC | POSS F/ARM BY CONVICTED FELON/ADDICT/ETC  | 10700 S  MAIN                         ST | NA       | 33.93919999999999959073 | -118.2738999999999975898 | 2018 |\n",
       "| 5404690 | 2018-08-25 | 1850 | 18 | Southeast | 1832 | 39 | M | B | 12 | Weapon (carry/poss) | F | 29800(A)1PC | POSS F/ARM BY CONVICTED FELON/ADDICT/ETC  | 10600 S  MAIN                         ST | NA       | 33.94019999999999726015 | -118.2738999999999975898 | 2018 |\n",
       "\n"
      ],
      "text/plain": [
       "  Report ID Arrest Date Time Area ID Area Name Reporting District Age Sex Code\n",
       "1 5213460   2018-01-24  1930 06      Hollywood 0668               29  M       \n",
       "2 5257944   2018-03-15  0310 07      Wilshire  0743               33  F       \n",
       "3 5328813   2018-06-01  1800 03      Southwest 0356               44  F       \n",
       "4 5336331   2018-06-10  0200 13      Newton    1364               23  M       \n",
       "5 5360731   2018-07-07  2330 18      Southeast 1832               32  M       \n",
       "6 5404690   2018-08-25  1850 18      Southeast 1832               39  M       \n",
       "  Descent Code Charge Group Code Charge Group Description Arrest Type Code\n",
       "1 H            10                Fraud/Embezzlement       F               \n",
       "2 O            01                Homicide                 F               \n",
       "3 B            16                Narcotic Drug Laws       F               \n",
       "4 H            12                Weapon (carry/poss)      F               \n",
       "5 B            12                Weapon (carry/poss)      F               \n",
       "6 B            12                Weapon (carry/poss)      F               \n",
       "  Charge      Charge Description                       \n",
       "1 530.5(A)PC  GET CREDIT/ETC OTHER'S ID                \n",
       "2 191.5(B)PC  VEH MANSLAUGHTR/OPER VESSEL DUI & DUR FEL\n",
       "3 11379(A)HS  TRANSPORT/SELL CONTROLLED SUBSTANCE      \n",
       "4 25400(A)2PC CARRYING CONCEALED WEAPON UPON PERSON    \n",
       "5 29800(A)1PC POSS F/ARM BY CONVICTED FELON/ADDICT/ETC \n",
       "6 29800(A)1PC POSS F/ARM BY CONVICTED FELON/ADDICT/ETC \n",
       "  Address                                  Cross Street Lat                    \n",
       "1 ST ANDREWS                               FOUNTAIN     34.09490000000000264890\n",
       "2 OLYMPIC                                  MASSELIN     34.05740000000000122782\n",
       "3 1600 W  36TH                         PL  NA           34.02190000000000225100\n",
       "4 1200 E  50TH                         ST  NA           33.99799999999999755573\n",
       "5 10700 S  MAIN                         ST NA           33.93919999999999959073\n",
       "6 10600 S  MAIN                         ST NA           33.94019999999999726015\n",
       "  Lon                      year\n",
       "1 -118.3109000000000037289 2018\n",
       "2 -118.3546999999999940201 2018\n",
       "3 -118.3061000000000007049 2018\n",
       "4 -118.2543000000000006366 2018\n",
       "5 -118.2738999999999975898 2018\n",
       "6 -118.2738999999999975898 2018"
      ]
     },
     "metadata": {},
     "output_type": "display_data"
    }
   ],
   "source": [
    "crime_geo <- crime_2018 %>%\n",
    "    filter(Location != '(0, 0)') %>%\n",
    "    mutate(year = year(`Arrest Date`)) %>%\n",
    "#     filter(grepl('Pico', Address, ignore.case = TRUE)) %>%\n",
    "    extract(Location, c(\"Lat\", \"Lon\"), \"([\\\\d.]+)[^\\\\d.]+(-[\\\\d.]+)\", convert = TRUE) %>%\n",
    "    mutate(Lat = as.numeric(Lat), Lon = as.numeric(Lon))\n",
    "\n",
    "head(crime_geo)"
   ]
  },
  {
   "cell_type": "code",
   "execution_count": 13,
   "metadata": {},
   "outputs": [
    {
     "data": {
      "text/html": [
       "<table>\n",
       "<caption>A tibble: 1 × 1</caption>\n",
       "<thead>\n",
       "\t<tr><th scope=col>n()</th></tr>\n",
       "\t<tr><th scope=col>&lt;int&gt;</th></tr>\n",
       "</thead>\n",
       "<tbody>\n",
       "\t<tr><td>12421</td></tr>\n",
       "</tbody>\n",
       "</table>\n"
      ],
      "text/latex": [
       "A tibble: 1 × 1\n",
       "\\begin{tabular}{r|l}\n",
       " n()\\\\\n",
       " <int>\\\\\n",
       "\\hline\n",
       "\t 12421\\\\\n",
       "\\end{tabular}\n"
      ],
      "text/markdown": [
       "\n",
       "A tibble: 1 × 1\n",
       "\n",
       "| n() &lt;int&gt; |\n",
       "|---|\n",
       "| 12421 |\n",
       "\n"
      ],
      "text/plain": [
       "  n()  \n",
       "1 12421"
      ]
     },
     "metadata": {},
     "output_type": "display_data"
    }
   ],
   "source": [
    "crime_geo %>%\n",
    "    mutate(distance = 6371 * sqrt(((Lat - 34.050536) * pi / 180) ^ 2 + cos(Lon) * ((Lon - (-118.247861)) * pi / 180) ^ 2)) %>%\n",
    "    filter(distance < 2) %>%\n",
    "    summarise(n())"
   ]
  },
  {
   "cell_type": "markdown",
   "metadata": {},
   "source": [
    "# - How many arrest incidents were made per kilometer on Pico Boulevard during 2018? For this question, we will need to estimate the length of Pico Boulevard, which mostly stretches from east to west. To estimate the length of Pico Boulevard:\n",
    "\n",
    "# Consider all location data which the listed address mentions \"Pico\". Remove outliers by filtering out locations where either the latitude or longitude is 2 standard deviations beyond the mean of the subset of identified points. To estimate the length, calculate the distance from the most western and eastern coordinate points. As before, use the simplified flat surface equation.\n",
    "\n",
    "# Once you have estimated the length of Pico Boulevard, you can proceed to report the number of arrest incidents per kilometer on Pico Boulevard in 2018."
   ]
  },
  {
   "cell_type": "code",
   "execution_count": 14,
   "metadata": {},
   "outputs": [],
   "source": [
    "pico <- crime_2018 %>%\n",
    "    filter(Location != '(0, 0)') %>%\n",
    "    mutate(year = year(`Arrest Date`)) %>%\n",
    "    filter(grepl('Pico', Address, ignore.case = TRUE)) %>%\n",
    "    extract(Location, c(\"Lat\", \"Lon\"), \"([\\\\d.]+)[^\\\\d.]+(-[\\\\d.]+)\", convert = TRUE) %>%\n",
    "    mutate(Lat = as.numeric(Lat), Lon = as.numeric(Lon))"
   ]
  },
  {
   "cell_type": "code",
   "execution_count": 15,
   "metadata": {},
   "outputs": [
    {
     "data": {
      "text/html": [
       "23.0235434328416"
      ],
      "text/latex": [
       "23.0235434328416"
      ],
      "text/markdown": [
       "23.0235434328416"
      ],
      "text/plain": [
       "[1] 23.02354343284158133542"
      ]
     },
     "metadata": {},
     "output_type": "display_data"
    }
   ],
   "source": [
    "pico <- pico %>%\n",
    "    filter(Lat - mean(Lat) < 2 * sd(Lat), Lon - mean(Lon) < 2 * sd(Lon))\n",
    "\n",
    "num <- nrow(pico)\n",
    "\n",
    "\n",
    "num / (6371 * abs(max(pico$Lon) - min(pico$Lon)) * pi / 180)"
   ]
  }
 ],
 "metadata": {
  "kernelspec": {
   "display_name": "R",
   "language": "R",
   "name": "ir"
  },
  "language_info": {
   "codemirror_mode": "r",
   "file_extension": ".r",
   "mimetype": "text/x-r-source",
   "name": "R",
   "pygments_lexer": "r",
   "version": "3.6.1"
  }
 },
 "nbformat": 4,
 "nbformat_minor": 2
}
