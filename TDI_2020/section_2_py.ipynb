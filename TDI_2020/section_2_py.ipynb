{
 "cells": [
  {
   "cell_type": "code",
   "execution_count": 26,
   "metadata": {},
   "outputs": [],
   "source": [
    "import numpy as np"
   ]
  },
  {
   "cell_type": "markdown",
   "metadata": {},
   "source": [
    "# Section 2:\n",
    "Consider a grid in d-dimensional space. There are n grid lines in each dimension, spaced one unit apart. We will consider a walk of m steps from grid intersection to grid intersection. Each step will be a single unit movement in any one of the dimensions, such that it says on the grid. We wish to look at the number of possible paths from a particular starting location on this grid.\n",
    "\n",
    "For example, consider the case where d=2 and n=3. We will label the grid intersections (x,y), where x,y∈{0,1,2}. There will be six valid walks starting at (0,0) of length m=2:\n",
    "- (0,0)→(0,1)→(0,0)\n",
    "- (0,0)→(0,1)→(0,2)\n",
    "- (0,0)→(0,1)→(1,1)\n",
    "- (0,0)→(1,0)→(0,0)\n",
    "- (0,0)→(1,0)→(2,0)\n",
    "- (0,0)→(1,0)→(1,1)\n",
    "\n",
    "Note that the walks may double back upon themselves, and multiple walks may end at the same grid intersection. All of these walks are counted."
   ]
  },
  {
   "cell_type": "markdown",
   "metadata": {},
   "source": [
    "**First let me think about the univorsal considtion of movements at sepcific location. The point can either move forward or backward on grid or move left or right on dimension, so the total possible movement is 2\\*2 on one movement.**"
   ]
  },
  {
   "cell_type": "markdown",
   "metadata": {},
   "source": [
    "```\n",
    "(0, 0): (index on dimension, index on grid)\n",
    "(0, 0) -> (1, 0) -> (2, 0) -> (3, 0), (1, 0), (2, 1) -> ...\n",
    "                    (1, 1) -> (2, 1), (0, 1), (1, 2), (1, 0) -> ...\n",
    "                    (0, 0) -> (1, 0), (0, 1) -> ...\n",
    "          (0, 1) -> (0, 2) -> (1, 2), (0, 1), (0, 3) -> ...\n",
    "                    (1, 1) -> (2, 1), (0, 1), (1, 2), (1, 0) -> ...\n",
    "                    (0, 0) -> (1, 0), (0, 1) -> ...\n",
    "```"
   ]
  },
  {
   "cell_type": "code",
   "execution_count": 119,
   "metadata": {},
   "outputs": [],
   "source": [
    "def movement_num(d, n, m, start):\n",
    "    '''\n",
    "    Algorithm: For specific starting point, say (0, 0), move toward each possible direction.\n",
    "               After one valid move (like (1, 0)), the path will be recorded ([(1, 0), (2, 0)]),\n",
    "               and it will be appended to overall movement ([...], ..., [(1, 0), (2, 0)]), \n",
    "               then iterate all valid movements. Invalid movement \n",
    "               (such as (-1, 0) or (0, 11) in this case) will skip. \n",
    "               Then take out the first movement from overall movement and do the same \n",
    "               itertion.  When the length of first element in overall movment is equal to m,\n",
    "               the function stops and return the number of total movements.\n",
    "    '''\n",
    "    overall_move = [] # all movement\n",
    "    step = [start] # current movement\n",
    "    \n",
    "    for i in range(m):\n",
    "        lst = step[-1]\n",
    "        lst0 = lst[:]\n",
    "        step0 = step[:]\n",
    "        lst1 = lst[:]\n",
    "        step1 = step[:]\n",
    "        for move in [1, -1]:\n",
    "            if lst0[0] + move > d or lst0[0] + move < 0: # first consider dimension\n",
    "                next\n",
    "            else:\n",
    "                lst0[0] = move + lst0[0]\n",
    "                step0.append(lst0)\n",
    "                overall_move.append(step0)\n",
    "                \n",
    "            if lst[1] + move > n or lst[1] + move < 0: # then consider grid\n",
    "                next\n",
    "            else:\n",
    "                lst1[1] = move + lst1[1]\n",
    "                step1.append(lst1)\n",
    "                overall_move.append(step1)\n",
    "                \n",
    "        step = overall_move.pop(0) # take first path into iteration\n",
    "    \n",
    "    return len(overall_move)"
   ]
  },
  {
   "cell_type": "markdown",
   "metadata": {},
   "source": [
    "# - Consider the case where d=4, n=10, and m=10.\n",
    "\n",
    "## 1. How many valid walks start from the corner (0, 0, 0, 0)?\n",
    "\n",
    "The starting point can be at any point. In this case, it starts at `(0, 0, 0, 0)`."
   ]
  },
  {
   "cell_type": "code",
   "execution_count": 121,
   "metadata": {},
   "outputs": [
    {
     "data": {
      "text/plain": [
       "25"
      ]
     },
     "execution_count": 121,
     "metadata": {},
     "output_type": "execute_result"
    }
   ],
   "source": [
    "movement_num(4, 10, 10, [0, 0])"
   ]
  },
  {
   "cell_type": "markdown",
   "metadata": {},
   "source": [
    "# 2. Consider the count of valid walks associated with each possible starting position. What is the ratio of the highest count of valid walks to smallest count of valid walks?"
   ]
  },
  {
   "cell_type": "code",
   "execution_count": 125,
   "metadata": {},
   "outputs": [
    {
     "data": {
      "text/plain": [
       "0.8333333333333334"
      ]
     },
     "execution_count": 125,
     "metadata": {},
     "output_type": "execute_result"
    }
   ],
   "source": [
    "walks_10 = []\n",
    "for i in range(4):\n",
    "    for j in range(10):\n",
    "        walks_10.append(movement_num(4, 10, 10, [i, j]))\n",
    "min(walks_10) / max(walks_10)"
   ]
  },
  {
   "cell_type": "markdown",
   "metadata": {},
   "source": [
    "# 3. Consider the count of valid walks associated with each possible starting position. What is the ratio of the standard deviation of the number of valid walks to the mean of the number of valid walks?"
   ]
  },
  {
   "cell_type": "code",
   "execution_count": 126,
   "metadata": {},
   "outputs": [
    {
     "data": {
      "text/plain": [
       "0.05084745762711865"
      ]
     },
     "execution_count": 126,
     "metadata": {},
     "output_type": "execute_result"
    }
   ],
   "source": [
    "np.std(walks_10) / np.mean(walks_10)"
   ]
  },
  {
   "cell_type": "markdown",
   "metadata": {},
   "source": [
    "# - Now, let's consider the case where d=8, n=12, and m=12.\n",
    "# 1. How many valid walks start from one of the corners?"
   ]
  },
  {
   "cell_type": "code",
   "execution_count": 127,
   "metadata": {},
   "outputs": [
    {
     "data": {
      "text/plain": [
       "30"
      ]
     },
     "execution_count": 127,
     "metadata": {},
     "output_type": "execute_result"
    }
   ],
   "source": [
    "movement_num(8, 12, 12, [0, 0])"
   ]
  },
  {
   "cell_type": "markdown",
   "metadata": {},
   "source": [
    "# 2. Consider the count of valid walks associated with each possible starting position. What is the ratio of the highest count of valid walks to smallest count of valid walks?"
   ]
  },
  {
   "cell_type": "code",
   "execution_count": 128,
   "metadata": {},
   "outputs": [
    {
     "data": {
      "text/plain": [
       "0.8333333333333334"
      ]
     },
     "execution_count": 128,
     "metadata": {},
     "output_type": "execute_result"
    }
   ],
   "source": [
    "walks_12 = []\n",
    "for i in range(8):\n",
    "    for j in range(12):\n",
    "        walks_12.append(movement_num(8, 12, 12, [i, j]))\n",
    "min(walks_12) / max(walks_12)"
   ]
  },
  {
   "cell_type": "markdown",
   "metadata": {},
   "source": [
    "# 3. Consider the count of valid walks associated with each possible starting position. What is the ratio of the standard deviation of the number of valid walks to the mean of the number of valid walks?"
   ]
  },
  {
   "cell_type": "code",
   "execution_count": 129,
   "metadata": {},
   "outputs": [
    {
     "data": {
      "text/plain": [
       "0.046713025216273234"
      ]
     },
     "execution_count": 129,
     "metadata": {},
     "output_type": "execute_result"
    }
   ],
   "source": [
    "np.std(walks_12) / np.mean(walks_12)"
   ]
  }
 ],
 "metadata": {
  "kernelspec": {
   "display_name": "Python 3",
   "language": "python",
   "name": "python3"
  },
  "language_info": {
   "codemirror_mode": {
    "name": "ipython",
    "version": 3
   },
   "file_extension": ".py",
   "mimetype": "text/x-python",
   "name": "python",
   "nbconvert_exporter": "python",
   "pygments_lexer": "ipython3",
   "version": "3.7.3"
  }
 },
 "nbformat": 4,
 "nbformat_minor": 2
}
