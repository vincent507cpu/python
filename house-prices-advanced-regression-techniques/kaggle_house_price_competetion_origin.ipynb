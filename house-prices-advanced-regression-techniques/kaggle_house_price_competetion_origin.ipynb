{
 "cells": [
  {
   "cell_type": "markdown",
   "metadata": {},
   "source": [
    "# load modules and functions, hide warnings"
   ]
  },
  {
   "cell_type": "code",
   "execution_count": 3,
   "metadata": {},
   "outputs": [],
   "source": [
    "import numpy as np\n",
    "import pandas as pd\n",
    "\n",
    "from scipy import stats\n",
    "from scipy.stats import norm, skew\n",
    "import matplotlib.pyplot as plt\n",
    "import seaport as sns\n",
    "\n",
    "from sklearn.linear_model import LinearRegression\n",
    "from sklearn.linear_model import Ridge\n",
    "from sklearn.linear_model import Lasso\n",
    "from sklearn.preprocessing import MinMaxScaler\n",
    "from sklearn.preprocessing import OneHotEncoder\n",
    "from sklearn.impute import SimpleImputer\n",
    "from sklearn.model_selection import GridSearchCV\n",
    "from sklearn.base import BaseEstimator, TransformerMixin\n",
    "from sklearn.model_selection import train_test_split\n",
    "from sklearn.metrics import mean_squared_error\n",
    "\n",
    "from xgboost import XGBRegressor\n",
    "\n",
    "import warnings\n",
    "warnings.filterwarnings('ignore')"
   ]
  },
  {
   "cell_type": "markdown",
   "metadata": {},
   "source": [
    "# load dataset"
   ]
  },
  {
   "cell_type": "code",
   "execution_count": 4,
   "metadata": {},
   "outputs": [],
   "source": [
    "train = pd.read_csv(\"house-prices-advanced-regression-techniques/train.csv\")\n",
    "test = pd.read_csv(\"house-prices-advanced-regression-techniques/test.csv\")"
   ]
  },
  {
   "cell_type": "markdown",
   "metadata": {},
   "source": [
    "# data wrangling:"
   ]
  },
  {
   "cell_type": "code",
   "execution_count": 5,
   "metadata": {},
   "outputs": [],
   "source": [
    "# Deleting outliers\n",
    "#train = train.drop(train[(train['GrLivArea']>4000) & (train['SalePrice']<300000)].index)\n",
    "\n",
    "# extract labels and index\n",
    "length = len(train)\n",
    "train_id = train[\"Id\"]\n",
    "test_id = test[\"Id\"]\n",
    "train_label = train[\"SalePrice\"]\n",
    "\n",
    "train = train.drop(columns = \"SalePrice\")\n",
    "\n",
    "full = pd.concat([train, test], axis = 0).reset_index()"
   ]
  },
  {
   "cell_type": "markdown",
   "metadata": {},
   "source": [
    "# based on dataset description:\n",
    "- \"MSSubClass\" column actually contains parallel levels, it needs to be converted to categorical;\n",
    "- \"Alley\", \"FireplaceQu\", \"PoolQC\", \"Fence\" and \"MiscFeature\" columns contain few information, which need to be dropped;\n",
    "- \"LotShape\", \"Utilities\", \"LandSlope\", \"ExterQual\", \"ExterCond\", \"BsmtQual\", \"BsmtCond\", \"BsmtExposure\", \"BsmtFinType1\", \"BsmtFinType2\", \"HeatingQC\", \"CentralAir\", \"Electrical\", \"KitchenQual\", \"Functional\", \"GarageFinish\", \"GarageQual\" and \"GarageCond\" columns contain levels, which need to be converted to numeric.\n",
    "- years in any kind need to convert to categorical.\n",
    "\n",
    "then all the numerical columns are normalize, all the categorical columns are one hot encoded."
   ]
  },
  {
   "cell_type": "code",
   "execution_count": 11,
   "metadata": {},
   "outputs": [],
   "source": [
    "def process(x):\n",
    "    # there are several columns are almost empty, remove them. also remove ID\n",
    "    x = x.drop(columns=[\"Id\", \"Alley\", \"FireplaceQu\", \"PoolQC\", \"Fence\", \"MiscFeature\"])\n",
    "    # \"MSSubClass\" actually have parallel levels. turn it to categorical\n",
    "    x[\"MSSubClss\"] = x[\"MSSubClass\"].astype(\"object\")\n",
    "    \n",
    "    for i in range(len(x[\"LotShape\"])):\n",
    "        if x[\"LotShape\"][i] == \"Reg\":\n",
    "            x[\"LotShape\"][i] = 3\n",
    "        elif x[\"LotShape\"][i] == \"IR1\":\n",
    "            x[\"LotShape\"][i] = 2\n",
    "        elif x[\"LotShape\"][i] == \"IR2\":\n",
    "            x[\"LotShape\"][i] = 1\n",
    "        else:\n",
    "            x[\"LotShape\"][i] = 0\n",
    "        \n",
    "    for i in range(len(x[\"Utilities\"])):\n",
    "        if x[\"Utilities\"][i] == \"AllPub\":\n",
    "            x[\"Utilities\"][i] = 3\n",
    "        elif x[\"Utilities\"][i] == \"NoSewr\":\n",
    "            x[\"Utilities\"][i] = 2\n",
    "        elif x[\"Utilities\"][i] ==\"NoSeWa\":\n",
    "            x[\"Utilities\"][i] = 2\n",
    "        else:\n",
    "            x[\"Utilities\"][i] = 1\n",
    "\n",
    "    for i in range(len(x[\"LandSlope\"])):\n",
    "        if x[\"LandSlope\"][i] == \"Gtl\":\n",
    "            x[\"LandSlope\"][i] = 2\n",
    "        elif x[\"LandSlope\"][i] == \"Mod\":\n",
    "            x[\"LandSlope\"][i] = 1\n",
    "        else:\n",
    "            x[\"LandSlope\"][i] = 0\n",
    "        \n",
    "    for i in range(len(x[\"ExterQual\"])):\n",
    "        if x[\"ExterQual\"][i] == \"Ex\":\n",
    "            x[\"ExterQual\"][i] = 4\n",
    "        elif x[\"ExterQual\"][i] == \"Gd\":\n",
    "            x[\"ExterQual\"][i] = 3\n",
    "        elif x[\"ExterQual\"][i] == \"TA\":\n",
    "            x[\"ExterQual\"][i] = 2\n",
    "        elif x[\"ExterQual\"][i] == \"Fa\":\n",
    "            x[\"ExterQual\"][i] = 1\n",
    "        else:\n",
    "            x[\"ExterQual\"][i] = 0\n",
    "        \n",
    "    for i in range(len(x[\"ExterCond\"])):\n",
    "        if x[\"ExterCond\"][i] == \"Ex\":\n",
    "            x[\"ExterCond\"][i] = 4\n",
    "        elif x[\"ExterCond\"][i] == \"Gd\":\n",
    "            x[\"ExterCond\"][i] = 3\n",
    "        elif x[\"ExterCond\"][i] == \"TA\":\n",
    "            x[\"ExterCond\"][i] = 2\n",
    "        elif x[\"ExterCond\"][i] == \"Fa\":\n",
    "            x[\"ExterCond\"][i] = 1\n",
    "        else:\n",
    "            x[\"ExterCond\"][i] = 0\n",
    "        \n",
    "    for i in range(len(x[\"BsmtQual\"])):\n",
    "        if x[\"BsmtQual\"][i] == \"Ex\":\n",
    "            x[\"BsmtQual\"][i] = 5\n",
    "        elif x[\"BsmtQual\"][i] == \"Gd\":\n",
    "            x[\"BsmtQual\"][i] = 4\n",
    "        elif x[\"BsmtQual\"][i] == \"TA\":\n",
    "            x[\"BsmtQual\"][i] = 3\n",
    "        elif x[\"BsmtQual\"][i] == \"Fa\":\n",
    "            x[\"BsmtQual\"][i] = 2\n",
    "        elif x[\"BsmtQual\"][i] == \"Po\":\n",
    "            x[\"BsmtQual\"][i] = 1\n",
    "        else:\n",
    "            x[\"BsmtQual\"][i] = 0\n",
    "        \n",
    "    for i in range(len(x[\"BsmtCond\"])):\n",
    "        if x[\"BsmtCond\"][i] == \"Ex\":\n",
    "            x[\"BsmtCond\"][i] = 5\n",
    "        elif x[\"BsmtCond\"][i] == \"Gd\":\n",
    "            x[\"BsmtCond\"][i] = 4\n",
    "        elif x[\"BsmtCond\"][i] == \"TA\":\n",
    "            x[\"BsmtCond\"][i] = 3\n",
    "        elif x[\"BsmtCond\"][i] == \"Fa\":\n",
    "            x[\"BsmtCond\"][i] = 2\n",
    "        elif x[\"BsmtCond\"][i] == \"Po\":\n",
    "            x[\"BsmtCond\"][i] = 1\n",
    "        else:\n",
    "            x[\"BsmtCond\"][i] = 0\n",
    "\n",
    "    for i in range(len(x[\"BsmtExposure\"])):\n",
    "        if x[\"BsmtExposure\"][i] == \"Gd\":\n",
    "            x[\"BsmtExposure\"][i] = 4\n",
    "        elif x[\"BsmtExposure\"][i] == \"Av\":\n",
    "            x[\"BsmtExposure\"][i] = 3\n",
    "        elif x[\"BsmtExposure\"][i] == \"Mn\":\n",
    "            x[\"BsmtExposure\"][i] = 2\n",
    "        elif x[\"BsmtExposure\"][i] == \"No\":\n",
    "            x[\"BsmtExposure\"][i] = 1\n",
    "        else:\n",
    "            x[\"BsmtExposure\"][i] = 0\n",
    "\n",
    "    for i in range(len(x[\"BsmtFinType1\"])):\n",
    "        if x[\"BsmtFinType1\"][i] == \"GLQ\":\n",
    "            x[\"BsmtFinType1\"][i] = 6\n",
    "        elif x[\"BsmtFinType1\"][i] == \"ALQ\":\n",
    "            x[\"BsmtFinType1\"][i] = 5\n",
    "        elif x[\"BsmtFinType1\"][i] == \"BLQ\":\n",
    "            x[\"BsmtFinType1\"][i] = 4\n",
    "        elif x[\"BsmtFinType1\"][i] == \"Rec\":\n",
    "            x[\"BsmtFinType1\"][i] = 3\n",
    "        elif x[\"BsmtFinType1\"][i] == \"LwQ\":\n",
    "            x[\"BsmtFinType1\"][i] = 2\n",
    "        elif x[\"BsmtFinType1\"][i] == \"Unf\":\n",
    "            x[\"BsmtFinType1\"][i] = 1\n",
    "        else:\n",
    "            x[\"BsmtFinType1\"][i] = 0\n",
    "\n",
    "    for i in range(len(x[\"BsmtFinType2\"])):\n",
    "        if x[\"BsmtFinType2\"][i] == \"GLQ\":\n",
    "            x[\"BsmtFinType2\"][i] = 6\n",
    "        elif x[\"BsmtFinType2\"][i] == \"ALQ\":\n",
    "            x[\"BsmtFinType2\"][i] = 5\n",
    "        elif x[\"BsmtFinType2\"][i] == \"BLQ\":\n",
    "            x[\"BsmtFinType2\"][i] = 4\n",
    "        elif x[\"BsmtFinType2\"][i] == \"Rec\":\n",
    "            x[\"BsmtFinType2\"][i] = 3\n",
    "        elif x[\"BsmtFinType2\"][i] == \"LwQ\":\n",
    "            x[\"BsmtFinType2\"][i] = 2\n",
    "        elif x[\"BsmtFinType2\"][i] == \"Unf\":\n",
    "            x[\"BsmtFinType2\"][i] = 1\n",
    "        else:\n",
    "            x[\"BsmtFinType2\"][i] = 0\n",
    "\n",
    "    for i in range(len(x[\"HeatingQC\"])):\n",
    "        if x[\"HeatingQC\"][i] == \"Ex\":\n",
    "            x[\"HeatingQC\"][i] = 4\n",
    "        elif x[\"HeatingQC\"][i] == \"Gd\":\n",
    "            x[\"HeatingQC\"][i] = 3\n",
    "        elif x[\"HeatingQC\"][i] == \"TA\":\n",
    "            x[\"HeatingQC\"][i] = 2\n",
    "        elif x[\"HeatingQC\"][i] == \"Fa\":\n",
    "            x[\"HeatingQC\"][i] = 1\n",
    "        else:\n",
    "            x[\"HeatingQC\"][i] = 0\n",
    "\n",
    "    for i in range(len(x[\"CentralAir\"])):\n",
    "        if x[\"CentralAir\"][i] == \"N\":\n",
    "            x[\"CentralAir\"][i] = 0\n",
    "        else:\n",
    "            x[\"CentralAir\"][i] = 1\n",
    "\n",
    "    for i in range(len(x[\"Electrical\"])):\n",
    "        if x[\"Electrical\"][i] == \"SBrkr\":\n",
    "            x[\"Electrical\"][i] = 4\n",
    "        elif x[\"Electrical\"][i] == \"FuseA\":\n",
    "            x[\"Electrical\"][i] = 3\n",
    "        elif x[\"Electrical\"][i] == \"FuseF\":\n",
    "            x[\"Electrical\"][i] = 2\n",
    "        elif x[\"Electrical\"][i] == \"FuseP\":\n",
    "            x[\"Electrical\"][i] = 1\n",
    "        else:\n",
    "            x[\"Electrical\"][i] = 0\n",
    "\n",
    "    for i in range(len(x[\"KitchenQual\"])):\n",
    "        if x[\"KitchenQual\"][i] == \"Ex\":\n",
    "            x[\"KitchenQual\"][i] = 4\n",
    "        elif x[\"KitchenQual\"][i] == \"Gd\":\n",
    "            x[\"KitchenQual\"][i] = 3\n",
    "        elif x[\"KitchenQual\"][i] == \"TA\":\n",
    "            x[\"KitchenQual\"][i] = 2\n",
    "        elif x[\"KitchenQual\"][i] == \"Fa\":\n",
    "            x[\"KitchenQual\"][i] = 1\n",
    "        else:\n",
    "            x[\"KitchenQual\"][i] = 0\n",
    "\n",
    "    for i in range(len(x[\"Functional\"])):\n",
    "        if x[\"Functional\"][i] == \"Typ\":\n",
    "            x[\"Functional\"][i] = 7\n",
    "        elif x[\"Functional\"][i] == \"Min1\":\n",
    "            x[\"Functional\"][i] = 6\n",
    "        elif x[\"Functional\"][i] == \"Min2\":\n",
    "            x[\"Functional\"][i] = 5\n",
    "        elif x[\"Functional\"][i] == \"Mod\":\n",
    "            x[\"Functional\"][i] = 4\n",
    "        elif x[\"Functional\"][i] == \"Maj1\":\n",
    "            x[\"Functional\"][i] = 3\n",
    "        elif x[\"Functional\"][i] == \"Maj2\":\n",
    "            x[\"Functional\"][i] = 2\n",
    "        elif x[\"Functional\"][i] == \"Sev\":\n",
    "            x[\"Functional\"][i] = 1\n",
    "        else:\n",
    "            x[\"Functional\"][i] = 0\n",
    "\n",
    "    for i in range(len(x[\"GarageFinish\"])):\n",
    "        if x[\"GarageFinish\"][i] == \"Fin\":\n",
    "            x[\"GarageFinish\"][i] = 3\n",
    "        elif x[\"GarageFinish\"][i] == \"RFn\":\n",
    "            x[\"GarageFinish\"][i] = 2\n",
    "        elif x[\"GarageFinish\"][i] == \"Unf\":\n",
    "            x[\"GarageFinish\"][i] = 1\n",
    "        else:\n",
    "            x[\"GarageFinish\"][i] = 0\n",
    "\n",
    "    for i in range(len(x[\"GarageQual\"])):\n",
    "        if x[\"GarageQual\"][i] == \"Ex\":\n",
    "            x[\"GarageQual\"][i] = 5\n",
    "        elif x[\"GarageQual\"][i] == \"Gd\":\n",
    "            x[\"GarageQual\"][i] = 4\n",
    "        elif x[\"GarageQual\"][i] == \"TA\":\n",
    "            x[\"GarageQual\"][i] = 3\n",
    "        elif x[\"GarageQual\"][i] == \"Fa\":\n",
    "            x[\"GarageQual\"][i] = 2\n",
    "        elif x[\"GarageQual\"][i] == \"Po\":\n",
    "            x[\"GarageQual\"][i] = 1\n",
    "        else:\n",
    "            x[\"GarageQual\"][i] = 0\n",
    "\n",
    "    for i in range(len(x[\"GarageCond\"])):\n",
    "        if x[\"GarageCond\"][i] == \"Ex\":\n",
    "            x[\"GarageCond\"][i] = 5\n",
    "        elif x[\"GarageCond\"][i] == \"Gd\":\n",
    "            x[\"GarageCond\"][i] = 4\n",
    "        elif x[\"GarageCond\"][i] == \"TA\":\n",
    "            x[\"GarageCond\"][i] = 3\n",
    "        elif x[\"GarageCond\"][i] == \"Fa\":\n",
    "            x[\"GarageCond\"][i] = 2\n",
    "        elif x[\"GarageCond\"][i] == \"Po\":\n",
    "            x[\"GarageCond\"][i] = 1\n",
    "        else:\n",
    "            x[\"GarageCond\"][i] = 0\n",
    "    \n",
    "    # convert these columns to numeric\n",
    "    columns = [\"LotShape\", \"Utilities\", \"LandSlope\", \"ExterQual\", \"ExterCond\",\n",
    "          \"BsmtQual\", \"BsmtCond\", \"BsmtExposure\", \"BsmtFinType1\", \"KitchenQual\",\n",
    "          \"BsmtFinType2\", \"HeatingQC\", \"CentralAir\", \"Electrical\",\n",
    "          \"Functional\", \"GarageFinish\", \"GarageQual\", \"GarageCond\"]\n",
    "    category = [\"YearBuilt\", \"YearRemodAdd\", \"GarageYrBlt\", \"MoSold\", \"YrSold\"]\n",
    "    x[columns] = x[columns].astype(\"int\")\n",
    "    x[category] = x[category].astype(\"object\")\n",
    "    \n",
    "    # select categorical and numerical column names\n",
    "    categorical = list(x.select_dtypes(include=\"object\").columns)\n",
    "    numeric = [col for col in x.columns if col not in categorical]\n",
    "    \n",
    "    # select categorical and numerical columns\n",
    "    cat = x[categorical]\n",
    "    num = x[numeric]\n",
    "\n",
    "    # impute cateorical data\n",
    "    imp_cat = SimpleImputer(missing_values=np.NaN, strategy=\"most_frequent\")\n",
    "    cat_imp = imp_cat.fit_transform(cat)\n",
    "    ohc = OneHotEncoder(sparse=False)\n",
    "    cat_ready = pd.DataFrame(ohc.fit_transform(cat_imp))\n",
    "\n",
    "    # impute numerical data\n",
    "    imp_num = SimpleImputer(missing_values=np.NaN, strategy=\"mean\")\n",
    "    num_imp = imp_num.fit_transform(num)\n",
    "    mms = MinMaxScaler()\n",
    "    num_ready = pd.DataFrame(mms.fit_transform(num_imp))\n",
    "\n",
    "    data_ready = pd.concat([cat_ready, num_ready], axis=1)\n",
    "    \n",
    "    return data_ready"
   ]
  },
  {
   "cell_type": "code",
   "execution_count": null,
   "metadata": {},
   "outputs": [],
   "source": [
    "full = full.replace({\"Street\":{\"Grvl\":0, 'Pave':1},\n",
    "                    \"Alley\":{\"NA\":0, \"Grvl\":1, \"Pave\":2},\n",
    "                    \"LotShape\":{\"Reg\":3,\"IR1\":2,\"IR2\":1,\"IR3\":0},\n",
    "                    \"Utilities\":{\"AllPub\":3,\"NoSewr\":2,:\"NoSeWa\":1,\"ELO\":0},\n",
    "                    \"LandSlope\":{\"Gtl\":2,'Mod':1,\"Sev\":0}})"
   ]
  },
  {
   "cell_type": "markdown",
   "metadata": {},
   "source": [
    "# process data"
   ]
  },
  {
   "cell_type": "code",
   "execution_count": 12,
   "metadata": {},
   "outputs": [],
   "source": [
    "full_processed = process(full)\n"
   ]
  },
  {
   "cell_type": "code",
   "execution_count": 20,
   "metadata": {},
   "outputs": [
    {
     "name": "stdout",
     "output_type": "stream",
     "text": [
      "Empty DataFrame\n",
      "Columns: []\n",
      "Index: [0, 1, 2, 3, 4]\n"
     ]
    }
   ],
   "source": [
    "train_pro = full_processed[:length]\n",
    "test_pro = full_processed[length:]"
   ]
  },
  {
   "cell_type": "markdown",
   "metadata": {},
   "source": [
    "# define a funcion to calculate RMSE"
   ]
  },
  {
   "cell_type": "code",
   "execution_count": 14,
   "metadata": {},
   "outputs": [],
   "source": [
    "def rmse(true, test):\n",
    "    rmse = np.sqrt(mean_squared_error(true, test))\n",
    "    return rmse"
   ]
  },
  {
   "cell_type": "markdown",
   "metadata": {},
   "source": [
    "# split data"
   ]
  },
  {
   "cell_type": "code",
   "execution_count": 23,
   "metadata": {},
   "outputs": [],
   "source": [
    "X_train, y_train, X_test, y_test = train_test_split(train_pro, train_label, test_size=0.2, random_state=1988)"
   ]
  },
  {
   "cell_type": "markdown",
   "metadata": {},
   "source": [
    "# classic linear regression"
   ]
  },
  {
   "cell_type": "code",
   "execution_count": 24,
   "metadata": {},
   "outputs": [
    {
     "name": "stdout",
     "output_type": "stream",
     "text": [
      "1.6466077252159102e+16\n"
     ]
    }
   ],
   "source": [
    "lr = LinearRegression()\n",
    "lr.fit(X_train, X_test)\n",
    "pred_lr = lr.predict(y_train)\n",
    "print(rmse(y_test, pred_lr))"
   ]
  },
  {
   "cell_type": "markdown",
   "metadata": {},
   "source": [
    "# lasso regression with grid of alpha values"
   ]
  },
  {
   "cell_type": "code",
   "execution_count": 25,
   "metadata": {},
   "outputs": [
    {
     "name": "stdout",
     "output_type": "stream",
     "text": [
      "{'alpha': 100.0}\n",
      "0.7881346589500677\n",
      "24038.52154239867\n"
     ]
    }
   ],
   "source": [
    "param_grid = {\"alpha\":np.linspace(100, 10000, 10)}\n",
    "\n",
    "ls = Lasso()\n",
    "grid_ls = GridSearchCV(ls, param_grid=param_grid, cv=10)\n",
    "grid_ls.fit(X_train, X_test)\n",
    "pred_ls = grid_ls.predict(y_train)\n",
    "print(grid_ls.best_params_)\n",
    "print(grid_ls.best_score_)\n",
    "print(rmse(y_test, pred_ls))"
   ]
  },
  {
   "cell_type": "markdown",
   "metadata": {},
   "source": [
    "# ridge regression with grid of alpha values"
   ]
  },
  {
   "cell_type": "code",
   "execution_count": 26,
   "metadata": {},
   "outputs": [
    {
     "name": "stdout",
     "output_type": "stream",
     "text": [
      "{'alpha': 100.0}\n",
      "0.728829575684029\n",
      "37598.76881586574\n"
     ]
    }
   ],
   "source": [
    "rg = Ridge()\n",
    "grid_rg = GridSearchCV(rg, param_grid=param_grid, cv=10)\n",
    "grid_rg.fit(X_train, X_test)\n",
    "pred_rg = grid_rg.predict(y_train)\n",
    "print(grid_rg.best_params_)\n",
    "print(grid_rg.best_score_)\n",
    "print(rmse(y_test, pred_rg))"
   ]
  },
  {
   "cell_type": "markdown",
   "metadata": {},
   "source": [
    "# lasso regression outperforms other regression."
   ]
  },
  {
   "cell_type": "markdown",
   "metadata": {},
   "source": [
    "# XGBoost:"
   ]
  },
  {
   "cell_type": "code",
   "execution_count": 1,
   "metadata": {},
   "outputs": [
    {
     "ename": "NameError",
     "evalue": "name 'XGBRegressor' is not defined",
     "output_type": "error",
     "traceback": [
      "\u001b[0;31m---------------------------------------------------------------------------\u001b[0m",
      "\u001b[0;31mNameError\u001b[0m                                 Traceback (most recent call last)",
      "\u001b[0;32m<ipython-input-1-c05d8b1a2fe0>\u001b[0m in \u001b[0;36m<module>\u001b[0;34m\u001b[0m\n\u001b[0;32m----> 1\u001b[0;31m \u001b[0mxgb\u001b[0m \u001b[0;34m=\u001b[0m \u001b[0mXGBRegressor\u001b[0m\u001b[0;34m(\u001b[0m\u001b[0;34m)\u001b[0m\u001b[0;34m\u001b[0m\u001b[0;34m\u001b[0m\u001b[0m\n\u001b[0m\u001b[1;32m      2\u001b[0m \u001b[0mxgb\u001b[0m\u001b[0;34m.\u001b[0m\u001b[0mfit\u001b[0m\u001b[0;34m(\u001b[0m\u001b[0mX_train\u001b[0m\u001b[0;34m,\u001b[0m \u001b[0mX_test\u001b[0m\u001b[0;34m)\u001b[0m\u001b[0;34m\u001b[0m\u001b[0;34m\u001b[0m\u001b[0m\n\u001b[1;32m      3\u001b[0m \u001b[0mpred_xgb\u001b[0m \u001b[0;34m=\u001b[0m \u001b[0mxgb\u001b[0m\u001b[0;34m.\u001b[0m\u001b[0mpredict\u001b[0m\u001b[0;34m(\u001b[0m\u001b[0my_train\u001b[0m\u001b[0;34m)\u001b[0m\u001b[0;34m\u001b[0m\u001b[0;34m\u001b[0m\u001b[0m\n\u001b[1;32m      4\u001b[0m \u001b[0mprint\u001b[0m\u001b[0;34m(\u001b[0m\u001b[0mrmse\u001b[0m\u001b[0;34m(\u001b[0m\u001b[0my_test\u001b[0m\u001b[0;34m,\u001b[0m \u001b[0mpred_xgb\u001b[0m\u001b[0;34m)\u001b[0m\u001b[0;34m)\u001b[0m\u001b[0;34m\u001b[0m\u001b[0;34m\u001b[0m\u001b[0m\n",
      "\u001b[0;31mNameError\u001b[0m: name 'XGBRegressor' is not defined"
     ]
    }
   ],
   "source": [
    "xgb = XGBRegressor()\n",
    "xgb.fit(X_train, X_test)\n",
    "pred_xgb = xgb.predict(y_train)\n",
    "print(rmse(y_test, pred_xgb))"
   ]
  },
  {
   "cell_type": "markdown",
   "metadata": {},
   "source": [
    "# run prediction on test data."
   ]
  }
 ],
 "metadata": {
  "kernelspec": {
   "display_name": "Python 3",
   "language": "python",
   "name": "python3"
  },
  "language_info": {
   "codemirror_mode": {
    "name": "ipython",
    "version": 3
   },
   "file_extension": ".py",
   "mimetype": "text/x-python",
   "name": "python",
   "nbconvert_exporter": "python",
   "pygments_lexer": "ipython3",
   "version": "3.7.2"
  }
 },
 "nbformat": 4,
 "nbformat_minor": 2
}
